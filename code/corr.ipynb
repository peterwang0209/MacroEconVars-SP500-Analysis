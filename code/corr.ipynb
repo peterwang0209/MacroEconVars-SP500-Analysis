{
 "cells": [
  {
   "cell_type": "code",
   "execution_count": 2,
   "metadata": {},
   "outputs": [],
   "source": [
    "import pandas as pd"
   ]
  },
  {
   "cell_type": "code",
   "execution_count": 4,
   "metadata": {},
   "outputs": [],
   "source": [
    "%store -r date_list\n",
    "%store -r cpi_list\n",
    "%store -r ppi_list\n",
    "%store -r unemployed_ratio_list\n",
    "%store -r update_sp500"
   ]
  },
  {
   "cell_type": "code",
   "execution_count": 11,
   "metadata": {},
   "outputs": [
    {
     "name": "stdout",
     "output_type": "stream",
     "text": [
      "Stored 'corr_2000_2022_matrix_res' (DataFrame)\n"
     ]
    }
   ],
   "source": [
    "corr_2000_2022 = pd.DataFrame()\n",
    "corr_2000_2022['date'] = date_list\n",
    "corr_2000_2022['cpi'] = cpi_list\n",
    "corr_2000_2022['ppi'] = ppi_list\n",
    "corr_2000_2022['unemployed_ratio'] = unemployed_ratio_list\n",
    "corr_2000_2022_matrix = pd.concat([corr_2000_2022, update_sp500], axis=1).dropna()\n",
    "corr_2000_2022_matrix.columns = ['Date', 'CPI', 'PPI', 'Unemployed_Ratio', 'SP500']\n",
    "corr_2000_2022_matrix['SP500'] = corr_2000_2022_matrix['SP500'].apply(pd.to_numeric, errors='coerce')\n",
    "corr_2000_2022_matrix_res = corr_2000_2022_matrix.corr()\n",
    "%store corr_2000_2022_matrix_res"
   ]
  },
  {
   "cell_type": "code",
   "execution_count": 12,
   "metadata": {},
   "outputs": [
    {
     "name": "stdout",
     "output_type": "stream",
     "text": [
      "Stored 'corr_2010_2019_matrix_res' (DataFrame)\n"
     ]
    }
   ],
   "source": [
    "corr_2010_2019 = pd.DataFrame()\n",
    "corr_2010_2019['date'] = date_list\n",
    "corr_2010_2019['cpi'] = cpi_list\n",
    "corr_2010_2019['ppi'] = ppi_list\n",
    "corr_2010_2019['unemployed_ratio'] = unemployed_ratio_list\n",
    "corr_2010_2019_matrix = pd.concat([corr_2010_2019, update_sp500], axis=1).dropna()\n",
    "corr_2010_2019_matrix.columns = ['Date', 'CPI', 'PPI', 'Unemployed_Ratio', 'SP500']\n",
    "corr_2010_2019_matrix['SP500'] = corr_2010_2019_matrix['SP500'].apply(pd.to_numeric, errors='coerce')\n",
    "corr_2010_2019_matrix_res = corr_2010_2019_matrix[120:240].corr()\n",
    "%store corr_2010_2019_matrix_res"
   ]
  }
 ],
 "metadata": {
  "kernelspec": {
   "display_name": "Python 3",
   "language": "python",
   "name": "python3"
  },
  "language_info": {
   "codemirror_mode": {
    "name": "ipython",
    "version": 3
   },
   "file_extension": ".py",
   "mimetype": "text/x-python",
   "name": "python",
   "nbconvert_exporter": "python",
   "pygments_lexer": "ipython3",
   "version": "3.6.8"
  },
  "orig_nbformat": 4,
  "vscode": {
   "interpreter": {
    "hash": "aee8b7b246df8f9039afb4144a1f6fd8d2ca17a180786b69acc140d282b71a49"
   }
  }
 },
 "nbformat": 4,
 "nbformat_minor": 2
}

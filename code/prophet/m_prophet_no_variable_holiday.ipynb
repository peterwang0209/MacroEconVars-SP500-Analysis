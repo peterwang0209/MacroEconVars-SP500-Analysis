{
 "cells": [
  {
   "cell_type": "code",
   "execution_count": 1,
   "metadata": {},
   "outputs": [
    {
     "name": "stderr",
     "output_type": "stream",
     "text": [
      "INFO:prophet:Disabling weekly seasonality. Run prophet with weekly_seasonality=True to override this.\n",
      "INFO:prophet:Disabling daily seasonality. Run prophet with daily_seasonality=True to override this.\n"
     ]
    },
    {
     "data": {
      "text/plain": [
       "0.06492765826721482"
      ]
     },
     "execution_count": 1,
     "metadata": {},
     "output_type": "execute_result"
    },
    {
     "data": {
      "image/png": "[encoded data removed]",
      "text/plain": [
       "<Figure size 432x288 with 1 Axes>"
      ]
     },
     "metadata": {
      "needs_background": "light"
     },
     "output_type": "display_data"
    }
   ],
   "source": [
    "import pandas as pd\n",
    "import pmdarima as pm\n",
    "from sklearn.metrics import mean_absolute_percentage_error\n",
    "from prophet import Prophet\n",
    "import matplotlib.pyplot as plt\n",
    "%store -r date_list\n",
    "%store -r cpi_list\n",
    "%store -r ppi_list\n",
    "%store -r unemployed_ratio_list\n",
    "%store -r update_sp500\n",
    "prophet_case_sp500 = pd.DataFrame()\n",
    "prophet_case_sp500['ds'] = date_list\n",
    "prophet_case_sp500['cpi'] = cpi_list\n",
    "prophet_case_sp500['ppi'] = ppi_list\n",
    "prophet_case_sp500['unemployment_ratio'] = unemployed_ratio_list\n",
    "prophet_case_sp500_update = pd.concat([prophet_case_sp500, update_sp500], axis=1).dropna()\n",
    "prophet_case_sp500_update['ds'] = pd.to_datetime(prophet_case_sp500_update['ds'])\n",
    "prophet_case_sp500_update.rename(columns={\"Price\": \"y\"}, inplace = True)\n",
    "modified_sp500 = prophet_case_sp500_update.loc[prophet_case_sp500_update['ds'] >= '2009-01-31']\n",
    "final_find_sp500_case_optimized = modified_sp500.loc[modified_sp500['ds'] <= '2019-12-31']\n",
    "train=final_find_sp500_case_optimized[(final_find_sp500_case_optimized['ds'] <= '2015-08-31')]\n",
    "test=final_find_sp500_case_optimized[(final_find_sp500_case_optimized['ds'] > '2015-08-31')]\n",
    "lockdowns = pd.DataFrame([\n",
    "    {'holiday': 'lockdown_1', 'ds': '2020-03-15', 'lower_window': 0, 'ds_upper': '2020-03-22'},\n",
    "])\n",
    "for t_col in ['ds', 'ds_upper']:\n",
    "    lockdowns[t_col] = pd.to_datetime(lockdowns[t_col])\n",
    "lockdowns['upper_window'] = (lockdowns['ds_upper'] - lockdowns['ds']).dt.days\n",
    "m3_without_variables = Prophet(mcmc_samples=600, holidays=lockdowns)\n",
    "m3_without_variables.fit(train)\n",
    "forecast1 = m3_without_variables.predict(test)\n",
    "final_df_1 = pd.concat((forecast1['yhat'], test.reset_index()), axis=1)\n",
    "plt.plot(final_find_sp500_case_optimized['ds'], final_find_sp500_case_optimized['y'], color='red', label='actual')\n",
    "plt.plot(final_df_1['ds'], final_df_1['yhat'], color='blue', label='forecast')\n",
    "plt.legend()\n",
    "mean_absolute_percentage_error(final_df_1['y'], final_df_1['yhat'])"
   ]
  },
  {
   "cell_type": "code",
   "execution_count": 2,
   "metadata": {},
   "outputs": [
    {
     "name": "stdout",
     "output_type": "stream",
     "text": [
      "Stored 'm_data_prophet_no_variable_holiday' (DataFrame)\n"
     ]
    }
   ],
   "source": [
    "m_data_prophet_no_variable_holiday = final_df_1\n",
    "%store m_data_prophet_no_variable_holiday"
   ]
  }
 ],
 "metadata": {
  "kernelspec": {
   "display_name": "Python 3",
   "language": "python",
   "name": "python3"
  },
  "language_info": {
   "codemirror_mode": {
    "name": "ipython",
    "version": 3
   },
   "file_extension": ".py",
   "mimetype": "text/x-python",
   "name": "python",
   "nbconvert_exporter": "python",
   "pygments_lexer": "ipython3",
   "version": "3.6.8"
  },
  "orig_nbformat": 4,
  "vscode": {
   "interpreter": {
    "hash": "aee8b7b246df8f9039afb4144a1f6fd8d2ca17a180786b69acc140d282b71a49"
   }
  }
 },
 "nbformat": 4,
 "nbformat_minor": 2
}

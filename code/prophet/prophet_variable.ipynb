{
 "cells": [
  {
   "cell_type": "code",
   "execution_count": 46,
   "metadata": {},
   "outputs": [],
   "source": [
    "import pandas as pd\n",
    "import pmdarima as pm\n",
    "from sklearn.metrics import mean_absolute_percentage_error\n",
    "from prophet import Prophet\n",
    "import matplotlib.pyplot as plt\n",
    "%store -r date_list\n",
    "%store -r cpi_list\n",
    "%store -r ppi_list\n",
    "%store -r unemployed_ratio_list\n",
    "%store -r update_sp500"
   ]
  },
  {
   "cell_type": "code",
   "execution_count": 47,
   "metadata": {},
   "outputs": [],
   "source": [
    "cpi_camp = pd.DataFrame()\n",
    "cpi_camp['ds'] = date_list\n",
    "cpi_camp['y'] = cpi_list\n",
    "cpi_camp['ds'] = pd.to_datetime(cpi_camp['ds'])\n",
    "train = cpi_camp[(cpi_camp['ds'] <= '2015-08-31')]\n",
    "test = cpi_camp[(cpi_camp['ds'] > '2015-08-31')]\n"
   ]
  },
  {
   "cell_type": "code",
   "execution_count": 48,
   "metadata": {},
   "outputs": [
    {
     "name": "stderr",
     "output_type": "stream",
     "text": [
      "INFO:prophet:Disabling weekly seasonality. Run prophet with weekly_seasonality=True to override this.\n",
      "INFO:prophet:Disabling daily seasonality. Run prophet with daily_seasonality=True to override this.\n"
     ]
    }
   ],
   "source": [
    "m = Prophet()\n",
    "m.fit(train)\n",
    "future = m.make_future_dataframe(periods=len(test), freq='MS')\n",
    "forecast = m.predict(future)\n",
    "cpi_forecast = forecast['yhat']"
   ]
  },
  {
   "cell_type": "code",
   "execution_count": 49,
   "metadata": {},
   "outputs": [],
   "source": [
    "ppi_camp = pd.DataFrame()\n",
    "ppi_camp['ds'] = date_list\n",
    "ppi_camp['y'] = ppi_list\n",
    "ppi_camp['ds'] = pd.to_datetime(ppi_camp['ds'])\n",
    "train = ppi_camp[(ppi_camp['ds'] <= '2015-08-31')]\n",
    "test = ppi_camp[(ppi_camp['ds'] > '2015-08-31')]"
   ]
  },
  {
   "cell_type": "code",
   "execution_count": 50,
   "metadata": {},
   "outputs": [
    {
     "name": "stderr",
     "output_type": "stream",
     "text": [
      "INFO:prophet:Disabling weekly seasonality. Run prophet with weekly_seasonality=True to override this.\n",
      "INFO:prophet:Disabling daily seasonality. Run prophet with daily_seasonality=True to override this.\n"
     ]
    }
   ],
   "source": [
    "m = Prophet()\n",
    "m.fit(train)\n",
    "future = m.make_future_dataframe(periods=len(test), freq='MS')\n",
    "forecast = m.predict(future)\n",
    "ppi_forecast = forecast['yhat']"
   ]
  },
  {
   "cell_type": "code",
   "execution_count": 51,
   "metadata": {},
   "outputs": [],
   "source": [
    "unemployed_camp = pd.DataFrame()\n",
    "unemployed_camp['ds'] = date_list\n",
    "unemployed_camp['y'] = unemployed_ratio_list\n",
    "unemployed_camp['ds'] = pd.to_datetime(unemployed_camp['ds'])\n",
    "train = unemployed_camp[(unemployed_camp['ds'] <= '2015-08-31')]\n",
    "test = unemployed_camp[(unemployed_camp['ds'] > '2015-08-31')]"
   ]
  },
  {
   "cell_type": "code",
   "execution_count": 52,
   "metadata": {},
   "outputs": [
    {
     "name": "stderr",
     "output_type": "stream",
     "text": [
      "INFO:prophet:Disabling weekly seasonality. Run prophet with weekly_seasonality=True to override this.\n",
      "INFO:prophet:Disabling daily seasonality. Run prophet with daily_seasonality=True to override this.\n"
     ]
    }
   ],
   "source": [
    "m = Prophet()\n",
    "m.fit(train)\n",
    "future = m.make_future_dataframe(periods=len(test), freq='MS')\n",
    "forecast = m.predict(future)\n",
    "unemployed_forecast = forecast['yhat']"
   ]
  },
  {
   "cell_type": "code",
   "execution_count": 53,
   "metadata": {},
   "outputs": [],
   "source": [
    "prophet_case_sp500 = pd.DataFrame()\n",
    "prophet_case_sp500['ds'] = date_list\n",
    "prophet_case_sp500['cpi'] = cpi_forecast\n",
    "prophet_case_sp500['ppi'] = ppi_forecast\n",
    "prophet_case_sp500['unemployment_ratio'] = unemployed_forecast\n",
    "prophet_case_sp500_update = pd.concat([prophet_case_sp500, update_sp500], axis=1).dropna()\n",
    "prophet_case_sp500_update['ds'] = pd.to_datetime(prophet_case_sp500_update['ds'])\n",
    "prophet_case_sp500_update.rename(columns={\"Price\": \"y\"}, inplace = True)"
   ]
  },
  {
   "cell_type": "code",
   "execution_count": 54,
   "metadata": {},
   "outputs": [
    {
     "name": "stderr",
     "output_type": "stream",
     "text": [
      "INFO:prophet:Disabling weekly seasonality. Run prophet with weekly_seasonality=True to override this.\n",
      "INFO:prophet:Disabling daily seasonality. Run prophet with daily_seasonality=True to override this.\n"
     ]
    },
    {
     "name": "stdout",
     "output_type": "stream",
     "text": [
      "<class 'pandas.core.frame.DataFrame'>\n",
      "Int64Index: 188 entries, 0 to 187\n",
      "Data columns (total 5 columns):\n",
      " #   Column              Non-Null Count  Dtype         \n",
      "---  ------              --------------  -----         \n",
      " 0   ds                  188 non-null    datetime64[ns]\n",
      " 1   cpi                 188 non-null    float64       \n",
      " 2   ppi                 188 non-null    float64       \n",
      " 3   unemployment_ratio  188 non-null    float64       \n",
      " 4   y                   188 non-null    float64       \n",
      "dtypes: datetime64[ns](1), float64(4)\n",
      "memory usage: 8.8 KB\n"
     ]
    },
    {
     "data": {
      "text/plain": [
       "<prophet.forecaster.Prophet at 0x7ff1507166d8>"
      ]
     },
     "execution_count": 54,
     "metadata": {},
     "output_type": "execute_result"
    }
   ],
   "source": [
    "train=prophet_case_sp500_update[(prophet_case_sp500_update['ds'] <= '2015-08-31')]\n",
    "test=prophet_case_sp500_update[(prophet_case_sp500_update['ds'] > '2015-08-31')]\n",
    "m1 = Prophet(mcmc_samples=600)\n",
    "m1.add_regressor('cpi')\n",
    "m1.add_regressor('ppi')\n",
    "m1.add_regressor('unemployment_ratio')\n",
    "train.info()\n",
    "m1.fit(train)"
   ]
  },
  {
   "cell_type": "code",
   "execution_count": 55,
   "metadata": {},
   "outputs": [
    {
     "data": {
      "text/plain": [
       "0.09857504754093273"
      ]
     },
     "execution_count": 55,
     "metadata": {},
     "output_type": "execute_result"
    },
    {
     "data": {
      "image/png": "[encoded data removed]",
      "text/plain": [
       "<Figure size 432x288 with 1 Axes>"
      ]
     },
     "metadata": {
      "needs_background": "light"
     },
     "output_type": "display_data"
    }
   ],
   "source": [
    "forecast2 = m1.predict(test)\n",
    "final_df_2 = pd.concat((forecast2['yhat'], test.reset_index()), axis=1)\n",
    "plt.plot(prophet_case_sp500_update['ds'], prophet_case_sp500_update['y'], color='red', label='actual')\n",
    "plt.plot(final_df_2['ds'], final_df_2['yhat'], color='blue', label='forecast')\n",
    "plt.legend()\n",
    "mean_absolute_percentage_error(final_df_2['y'], final_df_2['yhat'])"
   ]
  },
  {
   "cell_type": "code",
   "execution_count": 57,
   "metadata": {},
   "outputs": [
    {
     "name": "stdout",
     "output_type": "stream",
     "text": [
      "Stored 'data_prophet_variable' (DataFrame)\n"
     ]
    }
   ],
   "source": [
    "data_prophet_variable = final_df_2\n",
    "%store data_prophet_variable"
   ]
  }
 ],
 "metadata": {
  "kernelspec": {
   "display_name": "Python 3",
   "language": "python",
   "name": "python3"
  },
  "language_info": {
   "codemirror_mode": {
    "name": "ipython",
    "version": 3
   },
   "file_extension": ".py",
   "mimetype": "text/x-python",
   "name": "python",
   "nbconvert_exporter": "python",
   "pygments_lexer": "ipython3",
   "version": "3.6.8"
  },
  "orig_nbformat": 4,
  "vscode": {
   "interpreter": {
    "hash": "aee8b7b246df8f9039afb4144a1f6fd8d2ca17a180786b69acc140d282b71a49"
   }
  }
 },
 "nbformat": 4,
 "nbformat_minor": 2
}

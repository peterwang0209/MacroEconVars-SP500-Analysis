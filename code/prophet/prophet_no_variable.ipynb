{
 "cells": [
  {
   "cell_type": "code",
   "execution_count": 1,
   "metadata": {},
   "outputs": [],
   "source": [
    "import pandas as pd\n",
    "import pmdarima as pm\n",
    "from sklearn.metrics import mean_absolute_percentage_error\n",
    "from prophet import Prophet\n",
    "import matplotlib.pyplot as plt"
   ]
  },
  {
   "cell_type": "code",
   "execution_count": 2,
   "metadata": {},
   "outputs": [],
   "source": [
    "%store -r date_list\n",
    "%store -r cpi_list\n",
    "%store -r ppi_list\n",
    "%store -r unemployed_ratio_list\n",
    "%store -r update_sp500"
   ]
  },
  {
   "cell_type": "code",
   "execution_count": 3,
   "metadata": {},
   "outputs": [],
   "source": [
    "prophet_case_sp500 = pd.DataFrame()\n",
    "prophet_case_sp500['ds'] = date_list\n",
    "prophet_case_sp500['cpi'] = cpi_list\n",
    "prophet_case_sp500['ppi'] = ppi_list\n",
    "prophet_case_sp500['unemployment_ratio'] = unemployed_ratio_list\n",
    "prophet_case_sp500_update = pd.concat([prophet_case_sp500, update_sp500], axis=1).dropna()\n",
    "prophet_case_sp500_update['ds'] = pd.to_datetime(prophet_case_sp500_update['ds'])\n",
    "prophet_case_sp500_update.rename(columns={\"Price\": \"y\"}, inplace = True)"
   ]
  },
  {
   "cell_type": "code",
   "execution_count": 4,
   "metadata": {},
   "outputs": [
    {
     "name": "stderr",
     "output_type": "stream",
     "text": [
      "INFO:prophet:Disabling weekly seasonality. Run prophet with weekly_seasonality=True to override this.\n",
      "INFO:prophet:Disabling daily seasonality. Run prophet with daily_seasonality=True to override this.\n"
     ]
    },
    {
     "data": {
      "text/plain": [
       "<prophet.forecaster.Prophet at 0x7fcd9832b7b8>"
      ]
     },
     "execution_count": 4,
     "metadata": {},
     "output_type": "execute_result"
    }
   ],
   "source": [
    "train=prophet_case_sp500_update[(prophet_case_sp500_update['ds'] <= '2015-08-31')]\n",
    "test=prophet_case_sp500_update[(prophet_case_sp500_update['ds'] > '2015-08-31')]\n",
    "m1_without_variables = Prophet(mcmc_samples=600)\n",
    "m1_without_variables.fit(train)"
   ]
  },
  {
   "cell_type": "code",
   "execution_count": 5,
   "metadata": {},
   "outputs": [
    {
     "data": {
      "text/plain": [
       "0.08345196188038241"
      ]
     },
     "execution_count": 5,
     "metadata": {},
     "output_type": "execute_result"
    },
    {
     "data": {
      "image/png": "[encoded data removed]",
      "text/plain": [
       "<Figure size 432x288 with 1 Axes>"
      ]
     },
     "metadata": {
      "needs_background": "light"
     },
     "output_type": "display_data"
    }
   ],
   "source": [
    "forecast1 = m1_without_variables.predict(test)\n",
    "final_df_1 = pd.concat((forecast1['yhat'], test.reset_index()), axis=1)\n",
    "plt.plot(prophet_case_sp500_update['ds'], prophet_case_sp500_update['y'], color='red', label='actual')\n",
    "plt.plot(final_df_1['ds'], final_df_1['yhat'], color='blue', label='forecast')\n",
    "plt.legend()\n",
    "mean_absolute_percentage_error(final_df_1['y'], final_df_1['yhat'])"
   ]
  },
  {
   "cell_type": "code",
   "execution_count": 6,
   "metadata": {},
   "outputs": [
    {
     "name": "stdout",
     "output_type": "stream",
     "text": [
      "Stored 'data_prophet_no_variable' (DataFrame)\n"
     ]
    }
   ],
   "source": [
    "data_prophet_no_variable = final_df_1\n",
    "%store data_prophet_no_variable"
   ]
  }
 ],
 "metadata": {
  "kernelspec": {
   "display_name": "Python 3",
   "language": "python",
   "name": "python3"
  },
  "language_info": {
   "codemirror_mode": {
    "name": "ipython",
    "version": 3
   },
   "file_extension": ".py",
   "mimetype": "text/x-python",
   "name": "python",
   "nbconvert_exporter": "python",
   "pygments_lexer": "ipython3",
   "version": "3.6.8"
  },
  "orig_nbformat": 4,
  "vscode": {
   "interpreter": {
    "hash": "aee8b7b246df8f9039afb4144a1f6fd8d2ca17a180786b69acc140d282b71a49"
   }
  }
 },
 "nbformat": 4,
 "nbformat_minor": 2
}

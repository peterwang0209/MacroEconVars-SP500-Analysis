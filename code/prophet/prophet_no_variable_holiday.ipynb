{
 "cells": [
  {
   "cell_type": "code",
   "execution_count": 2,
   "metadata": {},
   "outputs": [],
   "source": [
    "import pandas as pd\n",
    "import pmdarima as pm\n",
    "from sklearn.metrics import mean_absolute_percentage_error\n",
    "from prophet import Prophet\n",
    "import matplotlib.pyplot as plt"
   ]
  },
  {
   "cell_type": "code",
   "execution_count": 3,
   "metadata": {},
   "outputs": [],
   "source": [
    "%store -r date_list\n",
    "%store -r cpi_list\n",
    "%store -r ppi_list\n",
    "%store -r unemployed_ratio_list\n",
    "%store -r update_sp500"
   ]
  },
  {
   "cell_type": "code",
   "execution_count": 4,
   "metadata": {},
   "outputs": [],
   "source": [
    "prophet_case_sp500 = pd.DataFrame()\n",
    "prophet_case_sp500['ds'] = date_list\n",
    "prophet_case_sp500['cpi'] = cpi_list\n",
    "prophet_case_sp500['ppi'] = ppi_list\n",
    "prophet_case_sp500['unemployment_ratio'] = unemployed_ratio_list\n",
    "prophet_case_sp500_update = pd.concat([prophet_case_sp500, update_sp500], axis=1).dropna()\n",
    "prophet_case_sp500_update['ds'] = pd.to_datetime(prophet_case_sp500_update['ds'])\n",
    "prophet_case_sp500_update.rename(columns={\"Price\": \"y\"}, inplace = True)"
   ]
  },
  {
   "cell_type": "code",
   "execution_count": 5,
   "metadata": {},
   "outputs": [
    {
     "data": {
      "text/html": [
       "<div>\n",
       "<style scoped>\n",
       "    .dataframe tbody tr th:only-of-type {\n",
       "        vertical-align: middle;\n",
       "    }\n",
       "\n",
       "    .dataframe tbody tr th {\n",
       "        vertical-align: top;\n",
       "    }\n",
       "\n",
       "    .dataframe thead th {\n",
       "        text-align: right;\n",
       "    }\n",
       "</style>\n",
       "<table border=\"1\" class=\"dataframe\">\n",
       "  <thead>\n",
       "    <tr style=\"text-align: right;\">\n",
       "      <th></th>\n",
       "      <th>ds</th>\n",
       "      <th>cpi</th>\n",
       "      <th>ppi</th>\n",
       "      <th>unemployment_ratio</th>\n",
       "      <th>y</th>\n",
       "    </tr>\n",
       "  </thead>\n",
       "  <tbody>\n",
       "    <tr>\n",
       "      <th>0</th>\n",
       "      <td>2000-01-01</td>\n",
       "      <td>168.800</td>\n",
       "      <td>130.800</td>\n",
       "      <td>4.0</td>\n",
       "      <td>1394.46</td>\n",
       "    </tr>\n",
       "    <tr>\n",
       "      <th>1</th>\n",
       "      <td>2000-02-01</td>\n",
       "      <td>169.800</td>\n",
       "      <td>132.200</td>\n",
       "      <td>4.1</td>\n",
       "      <td>1366.42</td>\n",
       "    </tr>\n",
       "    <tr>\n",
       "      <th>2</th>\n",
       "      <td>2000-03-01</td>\n",
       "      <td>171.200</td>\n",
       "      <td>132.900</td>\n",
       "      <td>4.0</td>\n",
       "      <td>1498.58</td>\n",
       "    </tr>\n",
       "    <tr>\n",
       "      <th>3</th>\n",
       "      <td>2000-04-01</td>\n",
       "      <td>171.300</td>\n",
       "      <td>132.600</td>\n",
       "      <td>3.8</td>\n",
       "      <td>1452.43</td>\n",
       "    </tr>\n",
       "    <tr>\n",
       "      <th>4</th>\n",
       "      <td>2000-05-01</td>\n",
       "      <td>171.500</td>\n",
       "      <td>133.100</td>\n",
       "      <td>4.0</td>\n",
       "      <td>1420.60</td>\n",
       "    </tr>\n",
       "    <tr>\n",
       "      <th>...</th>\n",
       "      <td>...</td>\n",
       "      <td>...</td>\n",
       "      <td>...</td>\n",
       "      <td>...</td>\n",
       "      <td>...</td>\n",
       "    </tr>\n",
       "    <tr>\n",
       "      <th>266</th>\n",
       "      <td>2022-03-01</td>\n",
       "      <td>287.504</td>\n",
       "      <td>245.404</td>\n",
       "      <td>3.6</td>\n",
       "      <td>4530.41</td>\n",
       "    </tr>\n",
       "    <tr>\n",
       "      <th>267</th>\n",
       "      <td>2022-04-01</td>\n",
       "      <td>289.109</td>\n",
       "      <td>249.827</td>\n",
       "      <td>3.6</td>\n",
       "      <td>4131.93</td>\n",
       "    </tr>\n",
       "    <tr>\n",
       "      <th>268</th>\n",
       "      <td>2022-05-01</td>\n",
       "      <td>292.296</td>\n",
       "      <td>256.579</td>\n",
       "      <td>3.6</td>\n",
       "      <td>4132.15</td>\n",
       "    </tr>\n",
       "    <tr>\n",
       "      <th>269</th>\n",
       "      <td>2022-06-01</td>\n",
       "      <td>296.311</td>\n",
       "      <td>262.828</td>\n",
       "      <td>3.6</td>\n",
       "      <td>3785.38</td>\n",
       "    </tr>\n",
       "    <tr>\n",
       "      <th>270</th>\n",
       "      <td>2022-07-01</td>\n",
       "      <td>296.276</td>\n",
       "      <td>257.551</td>\n",
       "      <td>3.5</td>\n",
       "      <td>4130.29</td>\n",
       "    </tr>\n",
       "  </tbody>\n",
       "</table>\n",
       "<p>271 rows × 5 columns</p>\n",
       "</div>"
      ],
      "text/plain": [
       "            ds      cpi      ppi  unemployment_ratio        y\n",
       "0   2000-01-01  168.800  130.800                 4.0  1394.46\n",
       "1   2000-02-01  169.800  132.200                 4.1  1366.42\n",
       "2   2000-03-01  171.200  132.900                 4.0  1498.58\n",
       "3   2000-04-01  171.300  132.600                 3.8  1452.43\n",
       "4   2000-05-01  171.500  133.100                 4.0  1420.60\n",
       "..         ...      ...      ...                 ...      ...\n",
       "266 2022-03-01  287.504  245.404                 3.6  4530.41\n",
       "267 2022-04-01  289.109  249.827                 3.6  4131.93\n",
       "268 2022-05-01  292.296  256.579                 3.6  4132.15\n",
       "269 2022-06-01  296.311  262.828                 3.6  3785.38\n",
       "270 2022-07-01  296.276  257.551                 3.5  4130.29\n",
       "\n",
       "[271 rows x 5 columns]"
      ]
     },
     "execution_count": 5,
     "metadata": {},
     "output_type": "execute_result"
    }
   ],
   "source": [
    "prophet_case_sp500_update"
   ]
  },
  {
   "cell_type": "code",
   "execution_count": 6,
   "metadata": {},
   "outputs": [],
   "source": [
    "lockdowns = pd.DataFrame([\n",
    "    {'holiday': 'lockdown_1', 'ds': '2020-03-15', 'lower_window': 0, 'ds_upper': '2020-03-22'},\n",
    "])\n",
    "for t_col in ['ds', 'ds_upper']:\n",
    "    lockdowns[t_col] = pd.to_datetime(lockdowns[t_col])\n",
    "lockdowns['upper_window'] = (lockdowns['ds_upper'] - lockdowns['ds']).dt.days"
   ]
  },
  {
   "cell_type": "code",
   "execution_count": 7,
   "metadata": {},
   "outputs": [
    {
     "name": "stderr",
     "output_type": "stream",
     "text": [
      "INFO:prophet:Disabling weekly seasonality. Run prophet with weekly_seasonality=True to override this.\n",
      "INFO:prophet:Disabling daily seasonality. Run prophet with daily_seasonality=True to override this.\n"
     ]
    },
    {
     "name": "stdout",
     "output_type": "stream",
     "text": [
      "<class 'pandas.core.frame.DataFrame'>\n",
      "Int64Index: 188 entries, 0 to 187\n",
      "Data columns (total 5 columns):\n",
      " #   Column              Non-Null Count  Dtype         \n",
      "---  ------              --------------  -----         \n",
      " 0   ds                  188 non-null    datetime64[ns]\n",
      " 1   cpi                 188 non-null    float64       \n",
      " 2   ppi                 188 non-null    float64       \n",
      " 3   unemployment_ratio  188 non-null    float64       \n",
      " 4   y                   188 non-null    float64       \n",
      "dtypes: datetime64[ns](1), float64(4)\n",
      "memory usage: 8.8 KB\n"
     ]
    },
    {
     "data": {
      "text/plain": [
       "<prophet.forecaster.Prophet at 0x7fad41dbe940>"
      ]
     },
     "execution_count": 7,
     "metadata": {},
     "output_type": "execute_result"
    }
   ],
   "source": [
    "train=prophet_case_sp500_update[(prophet_case_sp500_update['ds'] <= '2015-08-31')]\n",
    "test=prophet_case_sp500_update[(prophet_case_sp500_update['ds'] > '2015-08-31')]\n",
    "\n",
    "m2_without_variables = Prophet(mcmc_samples=600, holidays=lockdowns)\n",
    "\n",
    "train.info()\n",
    "m2_without_variables.fit(train)"
   ]
  },
  {
   "cell_type": "code",
   "execution_count": 8,
   "metadata": {},
   "outputs": [
    {
     "data": {
      "text/plain": [
       "0.0835842316536356"
      ]
     },
     "execution_count": 8,
     "metadata": {},
     "output_type": "execute_result"
    },
    {
     "data": {
      "image/png": "[encoded data removed]",
      "text/plain": [
       "<Figure size 432x288 with 1 Axes>"
      ]
     },
     "metadata": {
      "needs_background": "light"
     },
     "output_type": "display_data"
    }
   ],
   "source": [
    "forecase3 = m2_without_variables.predict(test)\n",
    "forecase3 = forecase3[['ds', 'yhat']]\n",
    "final_df_3 = pd.concat((forecase3['yhat'], test.reset_index()), axis=1)\n",
    "plt.figure()\n",
    "plt.plot(prophet_case_sp500_update['ds'], prophet_case_sp500_update['y'], color='red', label='actual')\n",
    "plt.plot(final_df_3['ds'], final_df_3['yhat'], color='blue', label='forecast')\n",
    "plt.legend()\n",
    "mean_absolute_percentage_error(final_df_3['y'], final_df_3['yhat'])"
   ]
  },
  {
   "cell_type": "code",
   "execution_count": 9,
   "metadata": {},
   "outputs": [
    {
     "name": "stdout",
     "output_type": "stream",
     "text": [
      "Stored 'data_prophet_no_variable_holiday' (DataFrame)\n"
     ]
    }
   ],
   "source": [
    "data_prophet_no_variable_holiday = final_df_3\n",
    "%store data_prophet_no_variable_holiday"
   ]
  }
 ],
 "metadata": {
  "kernelspec": {
   "display_name": "Python 3",
   "language": "python",
   "name": "python3"
  },
  "language_info": {
   "codemirror_mode": {
    "name": "ipython",
    "version": 3
   },
   "file_extension": ".py",
   "mimetype": "text/x-python",
   "name": "python",
   "nbconvert_exporter": "python",
   "pygments_lexer": "ipython3",
   "version": "3.6.8"
  },
  "orig_nbformat": 4,
  "vscode": {
   "interpreter": {
    "hash": "aee8b7b246df8f9039afb4144a1f6fd8d2ca17a180786b69acc140d282b71a49"
   }
  }
 },
 "nbformat": 4,
 "nbformat_minor": 2
}

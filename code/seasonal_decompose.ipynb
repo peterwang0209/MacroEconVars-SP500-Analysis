{
 "cells": [
  {
   "cell_type": "code",
   "execution_count": 24,
   "metadata": {},
   "outputs": [],
   "source": [
    "import pandas as pd\n",
    "from statsmodels.tsa.seasonal import seasonal_decompose\n"
   ]
  },
  {
   "cell_type": "code",
   "execution_count": 25,
   "metadata": {},
   "outputs": [],
   "source": [
    "%store -r date_list\n",
    "%store -r cpi_list\n",
    "%store -r ppi_list\n",
    "%store -r unemployed_ratio_list\n",
    "%store -r update_sp500"
   ]
  },
  {
   "cell_type": "code",
   "execution_count": 26,
   "metadata": {},
   "outputs": [],
   "source": [
    "df_cpi = pd.DataFrame()\n",
    "df_cpi['date'] = date_list\n",
    "df_cpi['cpi'] = cpi_list\n",
    "df_cpi['date'] = pd.to_datetime(df_cpi['date'])\n",
    "df_cpi['cpi']=df_cpi['cpi'].fillna(method='ffill')\n",
    "cpi_decompose = seasonal_decompose(df_cpi['cpi'],model='additive', period=31)"
   ]
  },
  {
   "cell_type": "code",
   "execution_count": 27,
   "metadata": {},
   "outputs": [
    {
     "name": "stdout",
     "output_type": "stream",
     "text": [
      "Stored 'cpi_decompose' (DecomposeResult)\n",
      "Stored 'df_cpi' (DataFrame)\n"
     ]
    }
   ],
   "source": [
    "%store cpi_decompose\n",
    "%store df_cpi"
   ]
  },
  {
   "cell_type": "code",
   "execution_count": 28,
   "metadata": {},
   "outputs": [],
   "source": [
    "df_ppi = pd.DataFrame()\n",
    "df_ppi['date'] = date_list\n",
    "df_ppi['ppi'] = ppi_list\n",
    "df_ppi['date'] = pd.to_datetime(df_ppi['date'])\n",
    "df_ppi['ppi']=df_ppi['ppi'].fillna(method='ffill')\n",
    "ppi_decompose = seasonal_decompose(df_ppi['ppi'],model='additive', period=31)"
   ]
  },
  {
   "cell_type": "code",
   "execution_count": 29,
   "metadata": {},
   "outputs": [
    {
     "name": "stdout",
     "output_type": "stream",
     "text": [
      "Stored 'ppi_decompose' (DecomposeResult)\n",
      "Stored 'df_ppi' (DataFrame)\n"
     ]
    }
   ],
   "source": [
    "%store ppi_decompose\n",
    "%store df_ppi"
   ]
  },
  {
   "cell_type": "code",
   "execution_count": 30,
   "metadata": {},
   "outputs": [],
   "source": [
    "df_unemployed = pd.DataFrame()\n",
    "df_unemployed['date'] = date_list\n",
    "df_unemployed['unemployed'] = unemployed_ratio_list\n",
    "df_unemployed['date'] = pd.to_datetime(df_unemployed['date'])\n",
    "df_unemployed['unemployed']=df_unemployed['unemployed'].fillna(method='ffill')\n",
    "unemployed_decompose = seasonal_decompose(df_unemployed['unemployed'],model='additive', period=31)"
   ]
  },
  {
   "cell_type": "code",
   "execution_count": 31,
   "metadata": {},
   "outputs": [
    {
     "name": "stdout",
     "output_type": "stream",
     "text": [
      "Stored 'unemployed_decompose' (DecomposeResult)\n",
      "Stored 'df_unemployed' (DataFrame)\n"
     ]
    }
   ],
   "source": [
    "%store unemployed_decompose\n",
    "%store df_unemployed"
   ]
  },
  {
   "cell_type": "code",
   "execution_count": 32,
   "metadata": {},
   "outputs": [],
   "source": [
    "df_500 = pd.DataFrame()\n",
    "df_500['date'] = date_list\n",
    "df_500['price'] = pd.Series(update_sp500['Price'].to_numpy())\n",
    "df_500['date'] = pd.to_datetime(df_500['date'])\n",
    "df_500['price']=df_500['price'].fillna(method='ffill')\n",
    "sp500_decompose = seasonal_decompose(df_500['price'],model='additive', period=31)"
   ]
  },
  {
   "cell_type": "code",
   "execution_count": 33,
   "metadata": {},
   "outputs": [
    {
     "name": "stdout",
     "output_type": "stream",
     "text": [
      "Stored 'sp500_decompose' (DecomposeResult)\n",
      "Stored 'df_500' (DataFrame)\n"
     ]
    }
   ],
   "source": [
    "%store sp500_decompose\n",
    "%store df_500"
   ]
  }
 ],
 "metadata": {
  "kernelspec": {
   "display_name": "Python 3",
   "language": "python",
   "name": "python3"
  },
  "language_info": {
   "codemirror_mode": {
    "name": "ipython",
    "version": 3
   },
   "file_extension": ".py",
   "mimetype": "text/x-python",
   "name": "python",
   "nbconvert_exporter": "python",
   "pygments_lexer": "ipython3",
   "version": "3.6.8"
  },
  "orig_nbformat": 4,
  "vscode": {
   "interpreter": {
    "hash": "aee8b7b246df8f9039afb4144a1f6fd8d2ca17a180786b69acc140d282b71a49"
   }
  }
 },
 "nbformat": 4,
 "nbformat_minor": 2
}

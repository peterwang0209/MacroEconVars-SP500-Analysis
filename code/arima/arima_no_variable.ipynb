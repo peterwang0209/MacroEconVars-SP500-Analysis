{
 "cells": [
  {
   "cell_type": "code",
   "execution_count": 1,
   "metadata": {},
   "outputs": [],
   "source": [
    "import pandas as pd\n",
    "import pmdarima as pm\n",
    "from sklearn.metrics import mean_absolute_percentage_error"
   ]
  },
  {
   "cell_type": "code",
   "execution_count": 2,
   "metadata": {},
   "outputs": [],
   "source": [
    "%store -r date_list\n",
    "%store -r cpi_list\n",
    "%store -r ppi_list\n",
    "%store -r unemployed_ratio_list\n",
    "%store -r update_sp500"
   ]
  },
  {
   "cell_type": "code",
   "execution_count": 3,
   "metadata": {},
   "outputs": [],
   "source": [
    "case_sp500 = pd.DataFrame()\n",
    "case_sp500['date'] = date_list\n",
    "case_sp500['cpi'] = cpi_list\n",
    "case_sp500['ppi'] = ppi_list\n",
    "case_sp500['unemployment_ratio'] = unemployed_ratio_list\n",
    "case_sp500_update = pd.concat([case_sp500, update_sp500], axis=1).dropna()\n",
    "case_sp500_update['date'] = pd.to_datetime(case_sp500_update['date'])\n",
    "case_sp500_update = case_sp500_update.set_index('date')\n",
    "find_sp500_case = case_sp500_update.resample('M').mean()"
   ]
  },
  {
   "cell_type": "code",
   "execution_count": 4,
   "metadata": {},
   "outputs": [
    {
     "name": "stdout",
     "output_type": "stream",
     "text": [
      "Performing stepwise search to minimize aic\n",
      " ARIMA(2,1,2)(1,1,1)[12]             : AIC=inf, Time=2.78 sec\n",
      " ARIMA(0,1,0)(0,1,0)[12]             : AIC=2001.122, Time=0.01 sec\n",
      " ARIMA(1,1,0)(1,1,0)[12]             : AIC=1959.801, Time=0.15 sec\n",
      " ARIMA(0,1,1)(0,1,1)[12]             : AIC=1925.197, Time=0.32 sec\n",
      " ARIMA(0,1,1)(0,1,0)[12]             : AIC=2002.654, Time=0.06 sec\n",
      " ARIMA(0,1,1)(1,1,1)[12]             : AIC=1927.160, Time=0.80 sec\n",
      " ARIMA(0,1,1)(0,1,2)[12]             : AIC=1927.160, Time=9.80 sec\n",
      " ARIMA(0,1,1)(1,1,0)[12]             : AIC=1959.908, Time=0.72 sec\n",
      " ARIMA(0,1,1)(1,1,2)[12]             : AIC=inf, Time=5.80 sec\n",
      " ARIMA(0,1,0)(0,1,1)[12]             : AIC=inf, Time=0.15 sec\n",
      " ARIMA(1,1,1)(0,1,1)[12]             : AIC=inf, Time=1.07 sec\n",
      " ARIMA(0,1,2)(0,1,1)[12]             : AIC=1927.188, Time=0.80 sec\n",
      " ARIMA(1,1,0)(0,1,1)[12]             : AIC=1925.200, Time=0.65 sec\n",
      " ARIMA(1,1,2)(0,1,1)[12]             : AIC=inf, Time=1.81 sec\n",
      " ARIMA(0,1,1)(0,1,1)[12] intercept   : AIC=inf, Time=0.68 sec\n",
      "\n",
      "Best model:  ARIMA(0,1,1)(0,1,1)[12]          \n",
      "Total fit time: 25.622 seconds\n"
     ]
    }
   ],
   "source": [
    "train=find_sp500_case[(find_sp500_case.index.get_level_values(0) <= '2015-08-31')]\n",
    "test=find_sp500_case[(find_sp500_case.index.get_level_values(0) > '2015-08-31')]\n",
    "model_sp500_without_variable = pm.auto_arima(train['Price'], \n",
    "                        D=1, \n",
    "                        test='adf',\n",
    "                        m=12,\n",
    "                        error_action='ignore',  \n",
    "                        suppress_warnings=True, stepwise=True, trace=True, seasonal=True)"
   ]
  },
  {
   "cell_type": "code",
   "execution_count": 5,
   "metadata": {},
   "outputs": [
    {
     "data": {
      "text/html": [
       "<table class=\"simpletable\">\n",
       "<caption>SARIMAX Results</caption>\n",
       "<tr>\n",
       "  <th>Dep. Variable:</th>                  <td>y</td>               <th>  No. Observations:  </th>    <td>188</td>  \n",
       "</tr>\n",
       "<tr>\n",
       "  <th>Model:</th>           <td>SARIMAX(0, 1, 1)x(0, 1, 1, 12)</td> <th>  Log Likelihood     </th> <td>-959.599</td>\n",
       "</tr>\n",
       "<tr>\n",
       "  <th>Date:</th>                   <td>Fri, 10 Mar 2023</td>        <th>  AIC                </th> <td>1925.197</td>\n",
       "</tr>\n",
       "<tr>\n",
       "  <th>Time:</th>                       <td>14:55:14</td>            <th>  BIC                </th> <td>1934.692</td>\n",
       "</tr>\n",
       "<tr>\n",
       "  <th>Sample:</th>                         <td>0</td>               <th>  HQIC               </th> <td>1929.048</td>\n",
       "</tr>\n",
       "<tr>\n",
       "  <th></th>                             <td> - 188</td>             <th>                     </th>     <td> </td>   \n",
       "</tr>\n",
       "<tr>\n",
       "  <th>Covariance Type:</th>               <td>opg</td>              <th>                     </th>     <td> </td>   \n",
       "</tr>\n",
       "</table>\n",
       "<table class=\"simpletable\">\n",
       "<tr>\n",
       "      <td></td>        <th>coef</th>     <th>std err</th>      <th>z</th>      <th>P>|z|</th>  <th>[0.025</th>    <th>0.975]</th>  \n",
       "</tr>\n",
       "<tr>\n",
       "  <th>ma.L1</th>    <td>    0.0548</td> <td>    0.072</td> <td>    0.759</td> <td> 0.448</td> <td>   -0.087</td> <td>    0.196</td>\n",
       "</tr>\n",
       "<tr>\n",
       "  <th>ma.S.L12</th> <td>   -0.8819</td> <td>    0.076</td> <td>  -11.540</td> <td> 0.000</td> <td>   -1.032</td> <td>   -0.732</td>\n",
       "</tr>\n",
       "<tr>\n",
       "  <th>sigma2</th>   <td> 3062.3799</td> <td>  306.240</td> <td>   10.000</td> <td> 0.000</td> <td> 2462.161</td> <td> 3662.599</td>\n",
       "</tr>\n",
       "</table>\n",
       "<table class=\"simpletable\">\n",
       "<tr>\n",
       "  <th>Ljung-Box (L1) (Q):</th>     <td>0.02</td> <th>  Jarque-Bera (JB):  </th> <td>15.88</td>\n",
       "</tr>\n",
       "<tr>\n",
       "  <th>Prob(Q):</th>                <td>0.90</td> <th>  Prob(JB):          </th> <td>0.00</td> \n",
       "</tr>\n",
       "<tr>\n",
       "  <th>Heteroskedasticity (H):</th> <td>1.01</td> <th>  Skew:              </th> <td>-0.56</td>\n",
       "</tr>\n",
       "<tr>\n",
       "  <th>Prob(H) (two-sided):</th>    <td>0.96</td> <th>  Kurtosis:          </th> <td>3.96</td> \n",
       "</tr>\n",
       "</table><br/><br/>Warnings:<br/>[1] Covariance matrix calculated using the outer product of gradients (complex-step)."
      ],
      "text/plain": [
       "<class 'statsmodels.iolib.summary.Summary'>\n",
       "\"\"\"\n",
       "                                     SARIMAX Results                                      \n",
       "==========================================================================================\n",
       "Dep. Variable:                                  y   No. Observations:                  188\n",
       "Model:             SARIMAX(0, 1, 1)x(0, 1, 1, 12)   Log Likelihood                -959.599\n",
       "Date:                            Fri, 10 Mar 2023   AIC                           1925.197\n",
       "Time:                                    14:55:14   BIC                           1934.692\n",
       "Sample:                                         0   HQIC                          1929.048\n",
       "                                            - 188                                         \n",
       "Covariance Type:                              opg                                         \n",
       "==============================================================================\n",
       "                 coef    std err          z      P>|z|      [0.025      0.975]\n",
       "------------------------------------------------------------------------------\n",
       "ma.L1          0.0548      0.072      0.759      0.448      -0.087       0.196\n",
       "ma.S.L12      -0.8819      0.076    -11.540      0.000      -1.032      -0.732\n",
       "sigma2      3062.3799    306.240     10.000      0.000    2462.161    3662.599\n",
       "===================================================================================\n",
       "Ljung-Box (L1) (Q):                   0.02   Jarque-Bera (JB):                15.88\n",
       "Prob(Q):                              0.90   Prob(JB):                         0.00\n",
       "Heteroskedasticity (H):               1.01   Skew:                            -0.56\n",
       "Prob(H) (two-sided):                  0.96   Kurtosis:                         3.96\n",
       "===================================================================================\n",
       "\n",
       "Warnings:\n",
       "[1] Covariance matrix calculated using the outer product of gradients (complex-step).\n",
       "\"\"\""
      ]
     },
     "execution_count": 5,
     "metadata": {},
     "output_type": "execute_result"
    }
   ],
   "source": [
    "model_sp500_without_variable.fit(train['Price'])\n",
    "model_sp500_without_variable.summary()"
   ]
  },
  {
   "cell_type": "code",
   "execution_count": 6,
   "metadata": {},
   "outputs": [
    {
     "data": {
      "text/plain": [
       "83"
      ]
     },
     "execution_count": 6,
     "metadata": {},
     "output_type": "execute_result"
    }
   ],
   "source": [
    "len(test)"
   ]
  },
  {
   "cell_type": "code",
   "execution_count": 7,
   "metadata": {},
   "outputs": [
    {
     "data": {
      "text/plain": [
       "0.2292588697981979"
      ]
     },
     "execution_count": 7,
     "metadata": {},
     "output_type": "execute_result"
    },
    {
     "data": {
      "image/png": "[encoded data removed]",
      "text/plain": [
       "<Figure size 432x288 with 1 Axes>"
      ]
     },
     "metadata": {
      "needs_background": "light"
     },
     "output_type": "display_data"
    }
   ],
   "source": [
    "forecast=model_sp500_without_variable.predict(n_periods=len(test), return_conf_int=True)\n",
    "arima_df_1 = pd.DataFrame(forecast[0], index = test.index, columns=['Prediction'])\n",
    "pd.concat([find_sp500_case['Price'],arima_df_1],axis=1).plot()\n",
    "mean_absolute_percentage_error(test['Price'], arima_df_1['Prediction'])"
   ]
  },
  {
   "cell_type": "code",
   "execution_count": 9,
   "metadata": {},
   "outputs": [
    {
     "name": "stdout",
     "output_type": "stream",
     "text": [
      "Stored 'data_arima_no_variable' (DataFrame)\n"
     ]
    }
   ],
   "source": [
    "data_arima_no_variable = arima_df_1.reset_index()\n",
    "%store data_arima_no_variable"
   ]
  }
 ],
 "metadata": {
  "kernelspec": {
   "display_name": "Python 3",
   "language": "python",
   "name": "python3"
  },
  "language_info": {
   "codemirror_mode": {
    "name": "ipython",
    "version": 3
   },
   "file_extension": ".py",
   "mimetype": "text/x-python",
   "name": "python",
   "nbconvert_exporter": "python",
   "pygments_lexer": "ipython3",
   "version": "3.6.8"
  },
  "orig_nbformat": 4,
  "vscode": {
   "interpreter": {
    "hash": "aee8b7b246df8f9039afb4144a1f6fd8d2ca17a180786b69acc140d282b71a49"
   }
  }
 },
 "nbformat": 4,
 "nbformat_minor": 2
}

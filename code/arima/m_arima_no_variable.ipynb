{
 "cells": [
  {
   "cell_type": "code",
   "execution_count": 1,
   "metadata": {},
   "outputs": [],
   "source": [
    "import pandas as pd\n",
    "import pmdarima as pm\n",
    "from sklearn.metrics import mean_absolute_percentage_error\n",
    "%store -r date_list\n",
    "%store -r cpi_list\n",
    "%store -r ppi_list\n",
    "%store -r unemployed_ratio_list\n",
    "%store -r update_sp500"
   ]
  },
  {
   "cell_type": "code",
   "execution_count": 2,
   "metadata": {},
   "outputs": [],
   "source": [
    "case_sp500 = pd.DataFrame()\n",
    "case_sp500['date'] = date_list\n",
    "case_sp500['cpi'] = cpi_list\n",
    "case_sp500['ppi'] = ppi_list\n",
    "case_sp500['unemployment_ratio'] = unemployed_ratio_list\n",
    "case_sp500_update = pd.concat([case_sp500, update_sp500], axis=1).dropna()\n",
    "case_sp500_update['date'] = pd.to_datetime(case_sp500_update['date'])\n",
    "case_sp500_update = case_sp500_update.set_index('date')\n",
    "find_sp500_case = case_sp500_update.resample('M').mean()\n",
    "find_sp500_case_optimized = find_sp500_case['20090131':'20191231']\n",
    "train=find_sp500_case_optimized[(find_sp500_case_optimized.index.get_level_values(0) >= '2009-01-31') & (find_sp500_case_optimized.index.get_level_values(0) <= '2015-08-31')]\n",
    "test=find_sp500_case_optimized[(find_sp500_case_optimized.index.get_level_values(0) > '2015-08-31')]"
   ]
  },
  {
   "cell_type": "code",
   "execution_count": 3,
   "metadata": {},
   "outputs": [
    {
     "name": "stdout",
     "output_type": "stream",
     "text": [
      "Performing stepwise search to minimize aic\n",
      " ARIMA(2,1,2)(1,1,1)[12]             : AIC=inf, Time=2.37 sec\n",
      " ARIMA(0,1,0)(0,1,0)[12]             : AIC=769.544, Time=0.01 sec\n",
      " ARIMA(1,1,0)(1,1,0)[12]             : AIC=751.194, Time=0.11 sec\n",
      " ARIMA(0,1,1)(0,1,1)[12]             : AIC=inf, Time=0.53 sec\n",
      " ARIMA(1,1,0)(0,1,0)[12]             : AIC=768.408, Time=0.02 sec\n",
      " ARIMA(1,1,0)(2,1,0)[12]             : AIC=749.107, Time=0.54 sec\n",
      " ARIMA(1,1,0)(2,1,1)[12]             : AIC=747.048, Time=1.82 sec\n",
      " ARIMA(1,1,0)(1,1,1)[12]             : AIC=745.215, Time=0.28 sec\n",
      " ARIMA(1,1,0)(0,1,1)[12]             : AIC=inf, Time=0.38 sec\n",
      " ARIMA(1,1,0)(1,1,2)[12]             : AIC=inf, Time=1.83 sec\n",
      " ARIMA(1,1,0)(0,1,2)[12]             : AIC=745.079, Time=0.63 sec\n",
      " ARIMA(0,1,0)(0,1,2)[12]             : AIC=745.727, Time=0.63 sec\n",
      " ARIMA(2,1,0)(0,1,2)[12]             : AIC=747.000, Time=0.95 sec\n",
      " ARIMA(1,1,1)(0,1,2)[12]             : AIC=747.035, Time=1.56 sec\n",
      " ARIMA(0,1,1)(0,1,2)[12]             : AIC=745.088, Time=0.58 sec\n",
      " ARIMA(2,1,1)(0,1,2)[12]             : AIC=inf, Time=2.11 sec\n",
      " ARIMA(1,1,0)(0,1,2)[12] intercept   : AIC=747.031, Time=2.62 sec\n",
      "\n",
      "Best model:  ARIMA(1,1,0)(0,1,2)[12]          \n",
      "Total fit time: 16.993 seconds\n"
     ]
    }
   ],
   "source": [
    "model_sp500_optimized_without_variables = pm.auto_arima(train['Price'], \n",
    "                        D=1, \n",
    "                        test='adf',\n",
    "                        m=12,\n",
    "                        error_action='ignore',  \n",
    "                        suppress_warnings=True, stepwise=True, trace=True)"
   ]
  },
  {
   "cell_type": "code",
   "execution_count": 4,
   "metadata": {},
   "outputs": [
    {
     "data": {
      "text/html": [
       "<table class=\"simpletable\">\n",
       "<caption>SARIMAX Results</caption>\n",
       "<tr>\n",
       "  <th>Dep. Variable:</th>                    <td>y</td>                  <th>  No. Observations:  </th>    <td>80</td>   \n",
       "</tr>\n",
       "<tr>\n",
       "  <th>Model:</th>           <td>SARIMAX(1, 1, 0)x(0, 1, [1, 2], 12)</td> <th>  Log Likelihood     </th> <td>-368.540</td>\n",
       "</tr>\n",
       "<tr>\n",
       "  <th>Date:</th>                     <td>Fri, 10 Mar 2023</td>           <th>  AIC                </th>  <td>745.079</td>\n",
       "</tr>\n",
       "<tr>\n",
       "  <th>Time:</th>                         <td>15:14:57</td>               <th>  BIC                </th>  <td>753.898</td>\n",
       "</tr>\n",
       "<tr>\n",
       "  <th>Sample:</th>                           <td>0</td>                  <th>  HQIC               </th>  <td>748.569</td>\n",
       "</tr>\n",
       "<tr>\n",
       "  <th></th>                                <td> - 80</td>                <th>                     </th>     <td> </td>   \n",
       "</tr>\n",
       "<tr>\n",
       "  <th>Covariance Type:</th>                 <td>opg</td>                 <th>                     </th>     <td> </td>   \n",
       "</tr>\n",
       "</table>\n",
       "<table class=\"simpletable\">\n",
       "<tr>\n",
       "      <td></td>        <th>coef</th>     <th>std err</th>      <th>z</th>      <th>P>|z|</th>  <th>[0.025</th>    <th>0.975]</th>  \n",
       "</tr>\n",
       "<tr>\n",
       "  <th>ar.L1</th>    <td>   -0.2156</td> <td>    0.133</td> <td>   -1.625</td> <td> 0.104</td> <td>   -0.476</td> <td>    0.044</td>\n",
       "</tr>\n",
       "<tr>\n",
       "  <th>ma.S.L12</th> <td>   -0.9522</td> <td>    0.277</td> <td>   -3.440</td> <td> 0.001</td> <td>   -1.495</td> <td>   -0.410</td>\n",
       "</tr>\n",
       "<tr>\n",
       "  <th>ma.S.L24</th> <td>    0.1701</td> <td>    0.174</td> <td>    0.979</td> <td> 0.328</td> <td>   -0.171</td> <td>    0.511</td>\n",
       "</tr>\n",
       "<tr>\n",
       "  <th>sigma2</th>   <td> 2877.1091</td> <td>  928.451</td> <td>    3.099</td> <td> 0.002</td> <td> 1057.378</td> <td> 4696.840</td>\n",
       "</tr>\n",
       "</table>\n",
       "<table class=\"simpletable\">\n",
       "<tr>\n",
       "  <th>Ljung-Box (L1) (Q):</th>     <td>0.03</td> <th>  Jarque-Bera (JB):  </th> <td>2.42</td> \n",
       "</tr>\n",
       "<tr>\n",
       "  <th>Prob(Q):</th>                <td>0.86</td> <th>  Prob(JB):          </th> <td>0.30</td> \n",
       "</tr>\n",
       "<tr>\n",
       "  <th>Heteroskedasticity (H):</th> <td>0.78</td> <th>  Skew:              </th> <td>-0.39</td>\n",
       "</tr>\n",
       "<tr>\n",
       "  <th>Prob(H) (two-sided):</th>    <td>0.56</td> <th>  Kurtosis:          </th> <td>2.50</td> \n",
       "</tr>\n",
       "</table><br/><br/>Warnings:<br/>[1] Covariance matrix calculated using the outer product of gradients (complex-step)."
      ],
      "text/plain": [
       "<class 'statsmodels.iolib.summary.Summary'>\n",
       "\"\"\"\n",
       "                                        SARIMAX Results                                        \n",
       "===============================================================================================\n",
       "Dep. Variable:                                       y   No. Observations:                   80\n",
       "Model:             SARIMAX(1, 1, 0)x(0, 1, [1, 2], 12)   Log Likelihood                -368.540\n",
       "Date:                                 Fri, 10 Mar 2023   AIC                            745.079\n",
       "Time:                                         15:14:57   BIC                            753.898\n",
       "Sample:                                              0   HQIC                           748.569\n",
       "                                                  - 80                                         \n",
       "Covariance Type:                                   opg                                         \n",
       "==============================================================================\n",
       "                 coef    std err          z      P>|z|      [0.025      0.975]\n",
       "------------------------------------------------------------------------------\n",
       "ar.L1         -0.2156      0.133     -1.625      0.104      -0.476       0.044\n",
       "ma.S.L12      -0.9522      0.277     -3.440      0.001      -1.495      -0.410\n",
       "ma.S.L24       0.1701      0.174      0.979      0.328      -0.171       0.511\n",
       "sigma2      2877.1091    928.451      3.099      0.002    1057.378    4696.840\n",
       "===================================================================================\n",
       "Ljung-Box (L1) (Q):                   0.03   Jarque-Bera (JB):                 2.42\n",
       "Prob(Q):                              0.86   Prob(JB):                         0.30\n",
       "Heteroskedasticity (H):               0.78   Skew:                            -0.39\n",
       "Prob(H) (two-sided):                  0.56   Kurtosis:                         2.50\n",
       "===================================================================================\n",
       "\n",
       "Warnings:\n",
       "[1] Covariance matrix calculated using the outer product of gradients (complex-step).\n",
       "\"\"\""
      ]
     },
     "execution_count": 4,
     "metadata": {},
     "output_type": "execute_result"
    }
   ],
   "source": [
    "model_sp500_optimized_without_variables.summary()"
   ]
  },
  {
   "cell_type": "code",
   "execution_count": 5,
   "metadata": {},
   "outputs": [
    {
     "data": {
      "text/plain": [
       "0.047447401802316914"
      ]
     },
     "execution_count": 5,
     "metadata": {},
     "output_type": "execute_result"
    },
    {
     "data": {
      "image/png": "[encoded data removed]",
      "text/plain": [
       "<Figure size 432x288 with 1 Axes>"
      ]
     },
     "metadata": {
      "needs_background": "light"
     },
     "output_type": "display_data"
    }
   ],
   "source": [
    "forecast=model_sp500_optimized_without_variables.predict(n_periods=len(test), return_conf_int=True)\n",
    "arima_df_3 = pd.DataFrame(forecast[0], index = test.index, columns=['Prediction'])\n",
    "pd.concat([find_sp500_case_optimized['Price'],arima_df_3],axis=1).plot()\n",
    "mean_absolute_percentage_error(test.Price, arima_df_3['Prediction'])"
   ]
  },
  {
   "cell_type": "code",
   "execution_count": 6,
   "metadata": {},
   "outputs": [
    {
     "name": "stdout",
     "output_type": "stream",
     "text": [
      "Stored 'm_data_arima_no_variable' (DataFrame)\n"
     ]
    }
   ],
   "source": [
    "m_data_arima_no_variable = arima_df_3.reset_index()\n",
    "%store m_data_arima_no_variable"
   ]
  }
 ],
 "metadata": {
  "kernelspec": {
   "display_name": "Python 3",
   "language": "python",
   "name": "python3"
  },
  "language_info": {
   "codemirror_mode": {
    "name": "ipython",
    "version": 3
   },
   "file_extension": ".py",
   "mimetype": "text/x-python",
   "name": "python",
   "nbconvert_exporter": "python",
   "pygments_lexer": "ipython3",
   "version": "3.6.8"
  },
  "orig_nbformat": 4,
  "vscode": {
   "interpreter": {
    "hash": "aee8b7b246df8f9039afb4144a1f6fd8d2ca17a180786b69acc140d282b71a49"
   }
  }
 },
 "nbformat": 4,
 "nbformat_minor": 2
}

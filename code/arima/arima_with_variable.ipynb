{
 "cells": [
  {
   "cell_type": "code",
   "execution_count": 24,
   "metadata": {},
   "outputs": [],
   "source": [
    "import pandas as pd\n",
    "import pmdarima as pm\n",
    "from sklearn.metrics import mean_absolute_percentage_error"
   ]
  },
  {
   "cell_type": "code",
   "execution_count": 25,
   "metadata": {},
   "outputs": [],
   "source": [
    "%store -r date_list\n",
    "%store -r cpi_list\n",
    "%store -r ppi_list\n",
    "%store -r unemployed_ratio_list\n",
    "%store -r update_sp500"
   ]
  },
  {
   "cell_type": "code",
   "execution_count": 26,
   "metadata": {},
   "outputs": [],
   "source": [
    "case_sp500 = pd.DataFrame()\n",
    "case_sp500['date'] = date_list\n",
    "case_sp500['cpi'] = cpi_list\n",
    "case_sp500['ppi'] = ppi_list\n",
    "case_sp500['unemployment_ratio'] = unemployed_ratio_list\n",
    "case_sp500_update = pd.concat([case_sp500, update_sp500], axis=1).dropna()\n",
    "case_sp500_update['date'] = pd.to_datetime(case_sp500_update['date'])\n",
    "case_sp500_update = case_sp500_update.set_index('date')\n",
    "find_sp500_case = case_sp500_update.resample('M').mean()"
   ]
  },
  {
   "cell_type": "code",
   "execution_count": 27,
   "metadata": {},
   "outputs": [],
   "source": [
    "train=find_sp500_case[(find_sp500_case.index.get_level_values(0) <= '2015-08-31')]\n",
    "test=find_sp500_case[(find_sp500_case.index.get_level_values(0) > '2015-08-31')]"
   ]
  },
  {
   "cell_type": "code",
   "execution_count": 28,
   "metadata": {},
   "outputs": [
    {
     "name": "stdout",
     "output_type": "stream",
     "text": [
      "Performing stepwise search to minimize aic\n",
      " ARIMA(2,0,2)(1,1,1)[12] intercept   : AIC=inf, Time=2.43 sec\n",
      " ARIMA(0,0,0)(0,1,0)[12] intercept   : AIC=2292.006, Time=0.12 sec\n",
      " ARIMA(1,0,0)(1,1,0)[12] intercept   : AIC=1972.683, Time=1.48 sec\n",
      " ARIMA(0,0,1)(0,1,1)[12] intercept   : AIC=inf, Time=2.03 sec\n",
      " ARIMA(0,0,0)(0,1,0)[12]             : AIC=2312.752, Time=0.10 sec\n",
      " ARIMA(1,0,0)(0,1,0)[12] intercept   : AIC=2014.383, Time=0.20 sec\n",
      " ARIMA(1,0,0)(2,1,0)[12] intercept   : AIC=1962.911, Time=6.00 sec\n",
      " ARIMA(1,0,0)(2,1,1)[12] intercept   : AIC=inf, Time=5.70 sec\n",
      " ARIMA(1,0,0)(1,1,1)[12] intercept   : AIC=inf, Time=1.74 sec\n",
      " ARIMA(0,0,0)(2,1,0)[12] intercept   : AIC=2242.683, Time=3.66 sec\n",
      " ARIMA(2,0,0)(2,1,0)[12] intercept   : AIC=1967.765, Time=6.41 sec\n",
      " ARIMA(1,0,1)(2,1,0)[12] intercept   : AIC=1964.751, Time=5.25 sec\n",
      " ARIMA(0,0,1)(2,1,0)[12] intercept   : AIC=2106.404, Time=4.27 sec\n",
      " ARIMA(2,0,1)(2,1,0)[12] intercept   : AIC=inf, Time=6.06 sec\n",
      " ARIMA(1,0,0)(2,1,0)[12]             : AIC=1959.011, Time=4.22 sec\n",
      " ARIMA(1,0,0)(1,1,0)[12]             : AIC=1970.646, Time=1.29 sec\n",
      " ARIMA(1,0,0)(2,1,1)[12]             : AIC=inf, Time=4.56 sec\n",
      " ARIMA(1,0,0)(1,1,1)[12]             : AIC=inf, Time=1.59 sec\n",
      " ARIMA(0,0,0)(2,1,0)[12]             : AIC=2295.846, Time=2.83 sec\n",
      " ARIMA(2,0,0)(2,1,0)[12]             : AIC=1960.497, Time=6.06 sec\n",
      " ARIMA(1,0,1)(2,1,0)[12]             : AIC=1961.043, Time=5.12 sec\n",
      " ARIMA(0,0,1)(2,1,0)[12]             : AIC=2133.084, Time=3.89 sec\n",
      " ARIMA(2,0,1)(2,1,0)[12]             : AIC=inf, Time=5.48 sec\n",
      "\n",
      "Best model:  ARIMA(1,0,0)(2,1,0)[12]          \n",
      "Total fit time: 80.541 seconds\n"
     ]
    }
   ],
   "source": [
    "\n",
    "model_sp500 = pm.auto_arima(train.Price, \n",
    "                        exogenous = train[['cpi', 'ppi','unemployment_ratio']], \n",
    "                        D=1, \n",
    "                        test='adf',\n",
    "                        m=12,\n",
    "                        error_action='ignore',  \n",
    "                        suppress_warnings=True, stepwise=True, trace=True)"
   ]
  },
  {
   "cell_type": "code",
   "execution_count": 29,
   "metadata": {},
   "outputs": [
    {
     "data": {
      "text/html": [
       "<table class=\"simpletable\">\n",
       "<caption>SARIMAX Results</caption>\n",
       "<tr>\n",
       "  <th>Dep. Variable:</th>                  <td>y</td>               <th>  No. Observations:  </th>    <td>188</td>  \n",
       "</tr>\n",
       "<tr>\n",
       "  <th>Model:</th>           <td>SARIMAX(1, 0, 0)x(2, 1, 0, 12)</td> <th>  Log Likelihood     </th> <td>-972.506</td>\n",
       "</tr>\n",
       "<tr>\n",
       "  <th>Date:</th>                   <td>Mon, 13 Mar 2023</td>        <th>  AIC                </th> <td>1959.011</td>\n",
       "</tr>\n",
       "<tr>\n",
       "  <th>Time:</th>                       <td>00:38:09</td>            <th>  BIC                </th> <td>1981.205</td>\n",
       "</tr>\n",
       "<tr>\n",
       "  <th>Sample:</th>                    <td>01-31-2000</td>           <th>  HQIC               </th> <td>1968.013</td>\n",
       "</tr>\n",
       "<tr>\n",
       "  <th></th>                          <td>- 08-31-2015</td>          <th>                     </th>     <td> </td>   \n",
       "</tr>\n",
       "<tr>\n",
       "  <th>Covariance Type:</th>               <td>opg</td>              <th>                     </th>     <td> </td>   \n",
       "</tr>\n",
       "</table>\n",
       "<table class=\"simpletable\">\n",
       "<tr>\n",
       "           <td></td>             <th>coef</th>     <th>std err</th>      <th>z</th>      <th>P>|z|</th>  <th>[0.025</th>    <th>0.975]</th>  \n",
       "</tr>\n",
       "<tr>\n",
       "  <th>cpi</th>                <td>   10.6375</td> <td>    8.487</td> <td>    1.253</td> <td> 0.210</td> <td>   -5.997</td> <td>   27.272</td>\n",
       "</tr>\n",
       "<tr>\n",
       "  <th>ppi</th>                <td>   -1.7734</td> <td>    4.158</td> <td>   -0.427</td> <td> 0.670</td> <td>   -9.922</td> <td>    6.375</td>\n",
       "</tr>\n",
       "<tr>\n",
       "  <th>unemployment_ratio</th> <td>  -47.1067</td> <td>   26.565</td> <td>   -1.773</td> <td> 0.076</td> <td>  -99.174</td> <td>    4.960</td>\n",
       "</tr>\n",
       "<tr>\n",
       "  <th>ar.L1</th>              <td>    0.9663</td> <td>    0.022</td> <td>   43.179</td> <td> 0.000</td> <td>    0.922</td> <td>    1.010</td>\n",
       "</tr>\n",
       "<tr>\n",
       "  <th>ar.S.L12</th>           <td>   -0.6604</td> <td>    0.081</td> <td>   -8.124</td> <td> 0.000</td> <td>   -0.820</td> <td>   -0.501</td>\n",
       "</tr>\n",
       "<tr>\n",
       "  <th>ar.S.L24</th>           <td>   -0.3140</td> <td>    0.071</td> <td>   -4.416</td> <td> 0.000</td> <td>   -0.453</td> <td>   -0.175</td>\n",
       "</tr>\n",
       "<tr>\n",
       "  <th>sigma2</th>             <td> 3533.4790</td> <td>  386.764</td> <td>    9.136</td> <td> 0.000</td> <td> 2775.436</td> <td> 4291.522</td>\n",
       "</tr>\n",
       "</table>\n",
       "<table class=\"simpletable\">\n",
       "<tr>\n",
       "  <th>Ljung-Box (L1) (Q):</th>     <td>0.68</td> <th>  Jarque-Bera (JB):  </th> <td>7.42</td> \n",
       "</tr>\n",
       "<tr>\n",
       "  <th>Prob(Q):</th>                <td>0.41</td> <th>  Prob(JB):          </th> <td>0.02</td> \n",
       "</tr>\n",
       "<tr>\n",
       "  <th>Heteroskedasticity (H):</th> <td>1.11</td> <th>  Skew:              </th> <td>-0.44</td>\n",
       "</tr>\n",
       "<tr>\n",
       "  <th>Prob(H) (two-sided):</th>    <td>0.68</td> <th>  Kurtosis:          </th> <td>3.47</td> \n",
       "</tr>\n",
       "</table><br/><br/>Warnings:<br/>[1] Covariance matrix calculated using the outer product of gradients (complex-step)."
      ],
      "text/plain": [
       "<class 'statsmodels.iolib.summary.Summary'>\n",
       "\"\"\"\n",
       "                                     SARIMAX Results                                      \n",
       "==========================================================================================\n",
       "Dep. Variable:                                  y   No. Observations:                  188\n",
       "Model:             SARIMAX(1, 0, 0)x(2, 1, 0, 12)   Log Likelihood                -972.506\n",
       "Date:                            Mon, 13 Mar 2023   AIC                           1959.011\n",
       "Time:                                    00:38:09   BIC                           1981.205\n",
       "Sample:                                01-31-2000   HQIC                          1968.013\n",
       "                                     - 08-31-2015                                         \n",
       "Covariance Type:                              opg                                         \n",
       "======================================================================================\n",
       "                         coef    std err          z      P>|z|      [0.025      0.975]\n",
       "--------------------------------------------------------------------------------------\n",
       "cpi                   10.6375      8.487      1.253      0.210      -5.997      27.272\n",
       "ppi                   -1.7734      4.158     -0.427      0.670      -9.922       6.375\n",
       "unemployment_ratio   -47.1067     26.565     -1.773      0.076     -99.174       4.960\n",
       "ar.L1                  0.9663      0.022     43.179      0.000       0.922       1.010\n",
       "ar.S.L12              -0.6604      0.081     -8.124      0.000      -0.820      -0.501\n",
       "ar.S.L24              -0.3140      0.071     -4.416      0.000      -0.453      -0.175\n",
       "sigma2              3533.4790    386.764      9.136      0.000    2775.436    4291.522\n",
       "===================================================================================\n",
       "Ljung-Box (L1) (Q):                   0.68   Jarque-Bera (JB):                 7.42\n",
       "Prob(Q):                              0.41   Prob(JB):                         0.02\n",
       "Heteroskedasticity (H):               1.11   Skew:                            -0.44\n",
       "Prob(H) (two-sided):                  0.68   Kurtosis:                         3.47\n",
       "===================================================================================\n",
       "\n",
       "Warnings:\n",
       "[1] Covariance matrix calculated using the outer product of gradients (complex-step).\n",
       "\"\"\""
      ]
     },
     "execution_count": 29,
     "metadata": {},
     "output_type": "execute_result"
    }
   ],
   "source": [
    "model_sp500.fit(train.Price, exogenous = train[['cpi', 'ppi','unemployment_ratio']])\n",
    "model_sp500.summary()"
   ]
  },
  {
   "cell_type": "code",
   "execution_count": null,
   "metadata": {},
   "outputs": [],
   "source": []
  },
  {
   "cell_type": "code",
   "execution_count": null,
   "metadata": {},
   "outputs": [],
   "source": []
  },
  {
   "cell_type": "code",
   "execution_count": null,
   "metadata": {},
   "outputs": [],
   "source": []
  },
  {
   "cell_type": "code",
   "execution_count": null,
   "metadata": {},
   "outputs": [],
   "source": []
  },
  {
   "cell_type": "code",
   "execution_count": null,
   "metadata": {},
   "outputs": [],
   "source": []
  },
  {
   "cell_type": "code",
   "execution_count": null,
   "metadata": {},
   "outputs": [],
   "source": []
  },
  {
   "cell_type": "code",
   "execution_count": null,
   "metadata": {},
   "outputs": [],
   "source": []
  },
  {
   "cell_type": "code",
   "execution_count": 30,
   "metadata": {},
   "outputs": [],
   "source": [
    "# forecast the cpi, ppi, and unemployment_ratio"
   ]
  },
  {
   "cell_type": "code",
   "execution_count": 31,
   "metadata": {},
   "outputs": [
    {
     "name": "stdout",
     "output_type": "stream",
     "text": [
      "Performing stepwise search to minimize aic\n",
      " ARIMA(2,0,2)(1,1,1)[12] intercept   : AIC=inf, Time=1.86 sec\n",
      " ARIMA(0,0,0)(0,1,0)[12] intercept   : AIC=856.131, Time=0.01 sec\n",
      " ARIMA(1,0,0)(1,1,0)[12] intercept   : AIC=455.229, Time=0.43 sec\n",
      " ARIMA(0,0,1)(0,1,1)[12] intercept   : AIC=inf, Time=0.84 sec\n",
      " ARIMA(0,0,0)(0,1,0)[12]             : AIC=1080.135, Time=0.01 sec\n",
      " ARIMA(1,0,0)(0,1,0)[12] intercept   : AIC=504.928, Time=0.07 sec\n",
      " ARIMA(1,0,0)(2,1,0)[12] intercept   : AIC=429.905, Time=3.49 sec\n",
      " ARIMA(1,0,0)(2,1,1)[12] intercept   : AIC=inf, Time=5.11 sec\n",
      " ARIMA(1,0,0)(1,1,1)[12] intercept   : AIC=inf, Time=1.12 sec\n",
      " ARIMA(0,0,0)(2,1,0)[12] intercept   : AIC=847.157, Time=1.52 sec\n",
      " ARIMA(2,0,0)(2,1,0)[12] intercept   : AIC=391.363, Time=3.25 sec\n",
      " ARIMA(2,0,0)(1,1,0)[12] intercept   : AIC=417.092, Time=1.08 sec\n",
      " ARIMA(2,0,0)(2,1,1)[12] intercept   : AIC=inf, Time=6.26 sec\n",
      " ARIMA(2,0,0)(1,1,1)[12] intercept   : AIC=inf, Time=1.68 sec\n",
      " ARIMA(3,0,0)(2,1,0)[12] intercept   : AIC=387.780, Time=3.64 sec\n",
      " ARIMA(3,0,0)(1,1,0)[12] intercept   : AIC=412.795, Time=0.79 sec\n",
      " ARIMA(3,0,0)(2,1,1)[12] intercept   : AIC=inf, Time=7.35 sec\n",
      " ARIMA(3,0,0)(1,1,1)[12] intercept   : AIC=inf, Time=1.96 sec\n",
      " ARIMA(4,0,0)(2,1,0)[12] intercept   : AIC=388.717, Time=3.82 sec\n",
      " ARIMA(3,0,1)(2,1,0)[12] intercept   : AIC=389.286, Time=3.83 sec\n",
      " ARIMA(2,0,1)(2,1,0)[12] intercept   : AIC=387.790, Time=2.92 sec\n",
      " ARIMA(4,0,1)(2,1,0)[12] intercept   : AIC=391.707, Time=4.56 sec\n",
      " ARIMA(3,0,0)(2,1,0)[12]             : AIC=inf, Time=1.53 sec\n",
      "\n",
      "Best model:  ARIMA(3,0,0)(2,1,0)[12] intercept\n",
      "Total fit time: 57.181 seconds\n"
     ]
    }
   ],
   "source": [
    "original_model_sp500_cpi = pm.auto_arima(train.cpi, \n",
    "                        D=1, \n",
    "                        test='adf',\n",
    "                        m=12,\n",
    "                        error_action='ignore',  \n",
    "                        suppress_warnings=True, stepwise=True, trace=True)"
   ]
  },
  {
   "cell_type": "code",
   "execution_count": 32,
   "metadata": {},
   "outputs": [
    {
     "data": {
      "text/plain": [
       "ARIMA(order=(3, 0, 0), scoring_args={}, seasonal_order=(2, 1, 0, 12),\n",
       "      suppress_warnings=True)"
      ]
     },
     "execution_count": 32,
     "metadata": {},
     "output_type": "execute_result"
    }
   ],
   "source": [
    "original_model_sp500_cpi.fit(train['cpi'])"
   ]
  },
  {
   "cell_type": "code",
   "execution_count": 34,
   "metadata": {},
   "outputs": [
    {
     "name": "stderr",
     "output_type": "stream",
     "text": [
      "/Users/peter/Library/Python/3.6/lib/python/site-packages/IPython/core/interactiveshell.py:3343: SettingWithCopyWarning: \n",
      "A value is trying to be set on a copy of a slice from a DataFrame\n",
      "\n",
      "See the caveats in the documentation: https://pandas.pydata.org/pandas-docs/stable/user_guide/indexing.html#returning-a-view-versus-a-copy\n",
      "  exec(code_obj, self.user_global_ns, self.user_ns)\n"
     ]
    },
    {
     "data": {
      "image/png": "[encoded data removed]",
      "text/plain": [
       "<Figure size 432x288 with 1 Axes>"
      ]
     },
     "metadata": {
      "needs_background": "light"
     },
     "output_type": "display_data"
    }
   ],
   "source": [
    "predict_cpi = original_model_sp500_cpi.predict(n_periods=len(test), return_conf_int=True)\n",
    "cpi_tmp = pd.DataFrame(predict_cpi[0], index = test.index, columns=['Prediction'])\n",
    "pd.concat([find_sp500_case['cpi'],cpi_tmp],axis=1).plot()\n",
    "for i in range(83):\n",
    "    test['cpi'][i] = predict_cpi[0][i]"
   ]
  },
  {
   "cell_type": "code",
   "execution_count": 35,
   "metadata": {},
   "outputs": [
    {
     "name": "stdout",
     "output_type": "stream",
     "text": [
      "Performing stepwise search to minimize aic\n",
      " ARIMA(2,1,2)(1,1,1)[12]             : AIC=inf, Time=1.78 sec\n",
      " ARIMA(0,1,0)(0,1,0)[12]             : AIC=780.256, Time=0.01 sec\n",
      " ARIMA(1,1,0)(1,1,0)[12]             : AIC=725.484, Time=0.07 sec\n",
      " ARIMA(0,1,1)(0,1,1)[12]             : AIC=inf, Time=0.72 sec\n",
      " ARIMA(1,1,0)(0,1,0)[12]             : AIC=761.386, Time=0.02 sec\n",
      " ARIMA(1,1,0)(2,1,0)[12]             : AIC=688.711, Time=0.34 sec\n",
      " ARIMA(1,1,0)(2,1,1)[12]             : AIC=inf, Time=3.67 sec\n",
      " ARIMA(1,1,0)(1,1,1)[12]             : AIC=inf, Time=0.82 sec\n",
      " ARIMA(0,1,0)(2,1,0)[12]             : AIC=708.856, Time=0.30 sec\n",
      " ARIMA(2,1,0)(2,1,0)[12]             : AIC=688.829, Time=0.51 sec\n",
      " ARIMA(1,1,1)(2,1,0)[12]             : AIC=689.573, Time=0.54 sec\n",
      " ARIMA(0,1,1)(2,1,0)[12]             : AIC=694.750, Time=0.33 sec\n",
      " ARIMA(2,1,1)(2,1,0)[12]             : AIC=687.254, Time=1.07 sec\n",
      " ARIMA(2,1,1)(1,1,0)[12]             : AIC=724.443, Time=0.26 sec\n",
      " ARIMA(2,1,1)(2,1,1)[12]             : AIC=inf, Time=4.95 sec\n",
      " ARIMA(2,1,1)(1,1,1)[12]             : AIC=inf, Time=1.28 sec\n",
      " ARIMA(3,1,1)(2,1,0)[12]             : AIC=688.435, Time=0.98 sec\n",
      " ARIMA(2,1,2)(2,1,0)[12]             : AIC=687.266, Time=1.40 sec\n",
      " ARIMA(1,1,2)(2,1,0)[12]             : AIC=685.275, Time=1.05 sec\n",
      " ARIMA(1,1,2)(1,1,0)[12]             : AIC=723.477, Time=0.28 sec\n",
      " ARIMA(1,1,2)(2,1,1)[12]             : AIC=inf, Time=4.40 sec\n",
      " ARIMA(1,1,2)(1,1,1)[12]             : AIC=inf, Time=1.57 sec\n",
      " ARIMA(0,1,2)(2,1,0)[12]             : AIC=686.921, Time=0.53 sec\n",
      " ARIMA(1,1,3)(2,1,0)[12]             : AIC=687.271, Time=1.02 sec\n",
      " ARIMA(0,1,3)(2,1,0)[12]             : AIC=687.717, Time=0.63 sec\n",
      " ARIMA(2,1,3)(2,1,0)[12]             : AIC=688.969, Time=1.60 sec\n",
      " ARIMA(1,1,2)(2,1,0)[12] intercept   : AIC=687.095, Time=2.44 sec\n",
      "\n",
      "Best model:  ARIMA(1,1,2)(2,1,0)[12]          \n",
      "Total fit time: 32.622 seconds\n"
     ]
    }
   ],
   "source": [
    "original_model_sp500_ppi = pm.auto_arima(train.ppi, \n",
    "                        D=1, \n",
    "                        test='adf',\n",
    "                        m=12,\n",
    "                        error_action='ignore',  \n",
    "                        suppress_warnings=True, stepwise=True, trace=True)"
   ]
  },
  {
   "cell_type": "code",
   "execution_count": 36,
   "metadata": {},
   "outputs": [
    {
     "data": {
      "text/plain": [
       "ARIMA(order=(1, 1, 2), scoring_args={}, seasonal_order=(2, 1, 0, 12),\n",
       "      suppress_warnings=True, with_intercept=False)"
      ]
     },
     "execution_count": 36,
     "metadata": {},
     "output_type": "execute_result"
    }
   ],
   "source": [
    "original_model_sp500_ppi.fit(train['ppi'])"
   ]
  },
  {
   "cell_type": "code",
   "execution_count": 38,
   "metadata": {},
   "outputs": [
    {
     "name": "stderr",
     "output_type": "stream",
     "text": [
      "/Users/peter/Library/Python/3.6/lib/python/site-packages/IPython/core/interactiveshell.py:3343: SettingWithCopyWarning: \n",
      "A value is trying to be set on a copy of a slice from a DataFrame\n",
      "\n",
      "See the caveats in the documentation: https://pandas.pydata.org/pandas-docs/stable/user_guide/indexing.html#returning-a-view-versus-a-copy\n",
      "  exec(code_obj, self.user_global_ns, self.user_ns)\n"
     ]
    },
    {
     "data": {
      "image/png": "[encoded data removed]",
      "text/plain": [
       "<Figure size 432x288 with 1 Axes>"
      ]
     },
     "metadata": {
      "needs_background": "light"
     },
     "output_type": "display_data"
    }
   ],
   "source": [
    "predict_ppi = original_model_sp500_ppi.predict(n_periods=len(test), return_conf_int=True)\n",
    "ppi_tmp = pd.DataFrame(predict_ppi[0], index = test.index, columns=['Prediction'])\n",
    "pd.concat([find_sp500_case['ppi'],ppi_tmp],axis=1).plot()\n",
    "for i in range(83):\n",
    "    test['ppi'][i] = predict_ppi[0][i]"
   ]
  },
  {
   "cell_type": "code",
   "execution_count": 40,
   "metadata": {},
   "outputs": [
    {
     "name": "stdout",
     "output_type": "stream",
     "text": [
      "Performing stepwise search to minimize aic\n",
      " ARIMA(2,2,2)(1,1,1)[12]             : AIC=inf, Time=1.39 sec\n",
      " ARIMA(0,2,0)(0,1,0)[12]             : AIC=95.441, Time=0.02 sec\n",
      " ARIMA(1,2,0)(1,1,0)[12]             : AIC=-10.436, Time=0.14 sec\n",
      " ARIMA(0,2,1)(0,1,1)[12]             : AIC=inf, Time=0.58 sec\n",
      " ARIMA(1,2,0)(0,1,0)[12]             : AIC=38.361, Time=0.04 sec\n",
      " ARIMA(1,2,0)(2,1,0)[12]             : AIC=-20.606, Time=0.82 sec\n",
      " ARIMA(1,2,0)(2,1,1)[12]             : AIC=inf, Time=3.57 sec\n",
      " ARIMA(1,2,0)(1,1,1)[12]             : AIC=inf, Time=0.89 sec\n",
      " ARIMA(0,2,0)(2,1,0)[12]             : AIC=41.872, Time=0.32 sec\n",
      " ARIMA(2,2,0)(2,1,0)[12]             : AIC=-36.659, Time=0.92 sec\n",
      " ARIMA(2,2,0)(1,1,0)[12]             : AIC=-24.505, Time=0.29 sec\n",
      " ARIMA(2,2,0)(2,1,1)[12]             : AIC=inf, Time=5.08 sec\n",
      " ARIMA(2,2,0)(1,1,1)[12]             : AIC=inf, Time=1.94 sec\n",
      " ARIMA(3,2,0)(2,1,0)[12]             : AIC=-39.592, Time=2.25 sec\n",
      " ARIMA(3,2,0)(1,1,0)[12]             : AIC=-27.189, Time=0.62 sec\n",
      " ARIMA(3,2,0)(2,1,1)[12]             : AIC=inf, Time=5.42 sec\n",
      " ARIMA(3,2,0)(1,1,1)[12]             : AIC=inf, Time=1.85 sec\n",
      " ARIMA(4,2,0)(2,1,0)[12]             : AIC=-62.499, Time=1.34 sec\n",
      " ARIMA(4,2,0)(1,1,0)[12]             : AIC=-42.804, Time=0.42 sec\n",
      " ARIMA(4,2,0)(2,1,1)[12]             : AIC=inf, Time=6.23 sec\n",
      " ARIMA(4,2,0)(1,1,1)[12]             : AIC=inf, Time=2.44 sec\n",
      " ARIMA(5,2,0)(2,1,0)[12]             : AIC=-63.154, Time=1.87 sec\n",
      " ARIMA(5,2,0)(1,1,0)[12]             : AIC=-43.312, Time=0.50 sec\n",
      " ARIMA(5,2,0)(2,1,1)[12]             : AIC=inf, Time=6.85 sec\n",
      " ARIMA(5,2,0)(1,1,1)[12]             : AIC=inf, Time=2.69 sec\n",
      " ARIMA(5,2,1)(2,1,0)[12]             : AIC=-61.208, Time=3.61 sec\n",
      " ARIMA(4,2,1)(2,1,0)[12]             : AIC=-63.038, Time=1.89 sec\n",
      " ARIMA(5,2,0)(2,1,0)[12] intercept   : AIC=-61.167, Time=4.58 sec\n",
      "\n",
      "Best model:  ARIMA(5,2,0)(2,1,0)[12]          \n",
      "Total fit time: 58.615 seconds\n"
     ]
    }
   ],
   "source": [
    "original_model_sp500_unemployed = pm.auto_arima(train.unemployment_ratio, \n",
    "                        D=1, \n",
    "                        test='adf',\n",
    "                        m=12,\n",
    "                        error_action='ignore',  \n",
    "                        suppress_warnings=True, stepwise=True, trace=True)"
   ]
  },
  {
   "cell_type": "code",
   "execution_count": 41,
   "metadata": {},
   "outputs": [
    {
     "data": {
      "text/plain": [
       "ARIMA(order=(5, 2, 0), scoring_args={}, seasonal_order=(2, 1, 0, 12),\n",
       "      suppress_warnings=True, with_intercept=False)"
      ]
     },
     "execution_count": 41,
     "metadata": {},
     "output_type": "execute_result"
    }
   ],
   "source": [
    "original_model_sp500_unemployed.fit(train['unemployment_ratio'])"
   ]
  },
  {
   "cell_type": "code",
   "execution_count": 43,
   "metadata": {},
   "outputs": [
    {
     "name": "stderr",
     "output_type": "stream",
     "text": [
      "/Users/peter/Library/Python/3.6/lib/python/site-packages/IPython/core/interactiveshell.py:3343: SettingWithCopyWarning: \n",
      "A value is trying to be set on a copy of a slice from a DataFrame\n",
      "\n",
      "See the caveats in the documentation: https://pandas.pydata.org/pandas-docs/stable/user_guide/indexing.html#returning-a-view-versus-a-copy\n",
      "  exec(code_obj, self.user_global_ns, self.user_ns)\n"
     ]
    },
    {
     "data": {
      "image/png": "[encoded data removed]",
      "text/plain": [
       "<Figure size 432x288 with 1 Axes>"
      ]
     },
     "metadata": {
      "needs_background": "light"
     },
     "output_type": "display_data"
    }
   ],
   "source": [
    "predict_unemployed = original_model_sp500_unemployed.predict(n_periods=len(test), return_conf_int=True)\n",
    "unemploy_tmp = pd.DataFrame(predict_unemployed[0], index = test.index, columns=['Prediction'])\n",
    "pd.concat([find_sp500_case['unemployment_ratio'],unemploy_tmp],axis=1).plot()\n",
    "for i in range(len(test)):\n",
    "    test['unemployment_ratio'][i] = predict_unemployed[0][i]"
   ]
  },
  {
   "cell_type": "code",
   "execution_count": null,
   "metadata": {},
   "outputs": [],
   "source": [
    "# after updating the test data, ready for forecasting the stock data"
   ]
  },
  {
   "cell_type": "code",
   "execution_count": 44,
   "metadata": {},
   "outputs": [
    {
     "data": {
      "text/plain": [
       "0.14562353119672183"
      ]
     },
     "execution_count": 44,
     "metadata": {},
     "output_type": "execute_result"
    },
    {
     "data": {
      "image/png": "[encoded data removed]",
      "text/plain": [
       "<Figure size 432x288 with 1 Axes>"
      ]
     },
     "metadata": {
      "needs_background": "light"
     },
     "output_type": "display_data"
    }
   ],
   "source": [
    "forecast=model_sp500.predict(n_periods=len(test), exogenous = test[['cpi', 'ppi','unemployment_ratio']], return_conf_int=True)\n",
    "arima_df_2 = pd.DataFrame(forecast[0], index = test.index, columns=['Prediction'])\n",
    "pd.concat([find_sp500_case['Price'],arima_df_2],axis=1).plot()\n",
    "mean_absolute_percentage_error(test.Price, arima_df_2['Prediction'])"
   ]
  },
  {
   "cell_type": "code",
   "execution_count": 45,
   "metadata": {},
   "outputs": [
    {
     "name": "stdout",
     "output_type": "stream",
     "text": [
      "Performing stepwise search to minimize aic\n",
      " ARIMA(2,1,2)(1,1,1)[12]             : AIC=inf, Time=3.12 sec\n",
      " ARIMA(0,1,0)(0,1,0)[12]             : AIC=2002.975, Time=0.09 sec\n",
      " ARIMA(1,1,0)(1,1,0)[12]             : AIC=1962.909, Time=0.57 sec\n",
      " ARIMA(0,1,1)(0,1,1)[12]             : AIC=1927.492, Time=0.75 sec\n",
      " ARIMA(0,1,1)(0,1,0)[12]             : AIC=2004.765, Time=0.17 sec\n",
      " ARIMA(0,1,1)(1,1,1)[12]             : AIC=1929.475, Time=1.70 sec\n",
      " ARIMA(0,1,1)(0,1,2)[12]             : AIC=1929.469, Time=3.75 sec\n",
      " ARIMA(0,1,1)(1,1,0)[12]             : AIC=1962.951, Time=0.51 sec\n",
      " ARIMA(0,1,1)(1,1,2)[12]             : AIC=inf, Time=4.88 sec\n",
      " ARIMA(0,1,0)(0,1,1)[12]             : AIC=1925.641, Time=0.34 sec\n",
      " ARIMA(0,1,0)(1,1,1)[12]             : AIC=1927.632, Time=0.69 sec\n",
      " ARIMA(0,1,0)(0,1,2)[12]             : AIC=1927.631, Time=2.19 sec\n",
      " ARIMA(0,1,0)(1,1,0)[12]             : AIC=1961.951, Time=0.39 sec\n",
      " ARIMA(0,1,0)(1,1,2)[12]             : AIC=inf, Time=3.48 sec\n",
      " ARIMA(1,1,0)(0,1,1)[12]             : AIC=1927.498, Time=1.10 sec\n",
      " ARIMA(1,1,1)(0,1,1)[12]             : AIC=inf, Time=1.53 sec\n",
      " ARIMA(0,1,0)(0,1,1)[12] intercept   : AIC=inf, Time=0.45 sec\n",
      "\n",
      "Best model:  ARIMA(0,1,0)(0,1,1)[12]          \n",
      "Total fit time: 25.727 seconds\n"
     ]
    }
   ],
   "source": [
    "model_sp500_2 = pm.auto_arima(train.Price, \n",
    "                        exogenous = train[['cpi', 'ppi']], \n",
    "                        D=1, \n",
    "                        test='adf',\n",
    "                        m=12,\n",
    "                        error_action='ignore',  \n",
    "                        suppress_warnings=True, stepwise=True, trace=True)"
   ]
  },
  {
   "cell_type": "code",
   "execution_count": 46,
   "metadata": {},
   "outputs": [
    {
     "data": {
      "text/html": [
       "<table class=\"simpletable\">\n",
       "<caption>SARIMAX Results</caption>\n",
       "<tr>\n",
       "  <th>Dep. Variable:</th>                   <td>y</td>                <th>  No. Observations:  </th>    <td>188</td>  \n",
       "</tr>\n",
       "<tr>\n",
       "  <th>Model:</th>           <td>SARIMAX(0, 1, 0)x(0, 1, [1], 12)</td> <th>  Log Likelihood     </th> <td>-958.820</td>\n",
       "</tr>\n",
       "<tr>\n",
       "  <th>Date:</th>                    <td>Mon, 13 Mar 2023</td>         <th>  AIC                </th> <td>1925.641</td>\n",
       "</tr>\n",
       "<tr>\n",
       "  <th>Time:</th>                        <td>01:02:56</td>             <th>  BIC                </th> <td>1938.300</td>\n",
       "</tr>\n",
       "<tr>\n",
       "  <th>Sample:</th>                     <td>01-31-2000</td>            <th>  HQIC               </th> <td>1930.776</td>\n",
       "</tr>\n",
       "<tr>\n",
       "  <th></th>                           <td>- 08-31-2015</td>           <th>                     </th>     <td> </td>   \n",
       "</tr>\n",
       "<tr>\n",
       "  <th>Covariance Type:</th>                <td>opg</td>               <th>                     </th>     <td> </td>   \n",
       "</tr>\n",
       "</table>\n",
       "<table class=\"simpletable\">\n",
       "<tr>\n",
       "      <td></td>        <th>coef</th>     <th>std err</th>      <th>z</th>      <th>P>|z|</th>  <th>[0.025</th>    <th>0.975]</th>  \n",
       "</tr>\n",
       "<tr>\n",
       "  <th>cpi</th>      <td>    7.9298</td> <td>   12.113</td> <td>    0.655</td> <td> 0.513</td> <td>  -15.812</td> <td>   31.672</td>\n",
       "</tr>\n",
       "<tr>\n",
       "  <th>ppi</th>      <td>    0.2478</td> <td>    4.949</td> <td>    0.050</td> <td> 0.960</td> <td>   -9.453</td> <td>    9.949</td>\n",
       "</tr>\n",
       "<tr>\n",
       "  <th>ma.S.L12</th> <td>   -0.8820</td> <td>    0.079</td> <td>  -11.214</td> <td> 0.000</td> <td>   -1.036</td> <td>   -0.728</td>\n",
       "</tr>\n",
       "<tr>\n",
       "  <th>sigma2</th>   <td> 3037.2178</td> <td>  339.812</td> <td>    8.938</td> <td> 0.000</td> <td> 2371.198</td> <td> 3703.237</td>\n",
       "</tr>\n",
       "</table>\n",
       "<table class=\"simpletable\">\n",
       "<tr>\n",
       "  <th>Ljung-Box (L1) (Q):</th>     <td>0.04</td> <th>  Jarque-Bera (JB):  </th> <td>11.97</td>\n",
       "</tr>\n",
       "<tr>\n",
       "  <th>Prob(Q):</th>                <td>0.84</td> <th>  Prob(JB):          </th> <td>0.00</td> \n",
       "</tr>\n",
       "<tr>\n",
       "  <th>Heteroskedasticity (H):</th> <td>1.00</td> <th>  Skew:              </th> <td>-0.52</td>\n",
       "</tr>\n",
       "<tr>\n",
       "  <th>Prob(H) (two-sided):</th>    <td>1.00</td> <th>  Kurtosis:          </th> <td>3.74</td> \n",
       "</tr>\n",
       "</table><br/><br/>Warnings:<br/>[1] Covariance matrix calculated using the outer product of gradients (complex-step)."
      ],
      "text/plain": [
       "<class 'statsmodels.iolib.summary.Summary'>\n",
       "\"\"\"\n",
       "                                      SARIMAX Results                                       \n",
       "============================================================================================\n",
       "Dep. Variable:                                    y   No. Observations:                  188\n",
       "Model:             SARIMAX(0, 1, 0)x(0, 1, [1], 12)   Log Likelihood                -958.820\n",
       "Date:                              Mon, 13 Mar 2023   AIC                           1925.641\n",
       "Time:                                      01:02:56   BIC                           1938.300\n",
       "Sample:                                  01-31-2000   HQIC                          1930.776\n",
       "                                       - 08-31-2015                                         \n",
       "Covariance Type:                                opg                                         \n",
       "==============================================================================\n",
       "                 coef    std err          z      P>|z|      [0.025      0.975]\n",
       "------------------------------------------------------------------------------\n",
       "cpi            7.9298     12.113      0.655      0.513     -15.812      31.672\n",
       "ppi            0.2478      4.949      0.050      0.960      -9.453       9.949\n",
       "ma.S.L12      -0.8820      0.079    -11.214      0.000      -1.036      -0.728\n",
       "sigma2      3037.2178    339.812      8.938      0.000    2371.198    3703.237\n",
       "===================================================================================\n",
       "Ljung-Box (L1) (Q):                   0.04   Jarque-Bera (JB):                11.97\n",
       "Prob(Q):                              0.84   Prob(JB):                         0.00\n",
       "Heteroskedasticity (H):               1.00   Skew:                            -0.52\n",
       "Prob(H) (two-sided):                  1.00   Kurtosis:                         3.74\n",
       "===================================================================================\n",
       "\n",
       "Warnings:\n",
       "[1] Covariance matrix calculated using the outer product of gradients (complex-step).\n",
       "\"\"\""
      ]
     },
     "execution_count": 46,
     "metadata": {},
     "output_type": "execute_result"
    }
   ],
   "source": [
    "model_sp500_2.summary()"
   ]
  },
  {
   "cell_type": "code",
   "execution_count": null,
   "metadata": {},
   "outputs": [
    {
     "data": {
      "text/html": [
       "<div>\n",
       "<style scoped>\n",
       "    .dataframe tbody tr th:only-of-type {\n",
       "        vertical-align: middle;\n",
       "    }\n",
       "\n",
       "    .dataframe tbody tr th {\n",
       "        vertical-align: top;\n",
       "    }\n",
       "\n",
       "    .dataframe thead th {\n",
       "        text-align: right;\n",
       "    }\n",
       "</style>\n",
       "<table border=\"1\" class=\"dataframe\">\n",
       "  <thead>\n",
       "    <tr style=\"text-align: right;\">\n",
       "      <th></th>\n",
       "      <th>cpi</th>\n",
       "      <th>ppi</th>\n",
       "      <th>unemployment_ratio</th>\n",
       "      <th>Price</th>\n",
       "    </tr>\n",
       "    <tr>\n",
       "      <th>date</th>\n",
       "      <th></th>\n",
       "      <th></th>\n",
       "      <th></th>\n",
       "      <th></th>\n",
       "    </tr>\n",
       "  </thead>\n",
       "  <tbody>\n",
       "    <tr>\n",
       "      <th>2013-02-28</th>\n",
       "      <td>230.884331</td>\n",
       "      <td>192.346502</td>\n",
       "      <td>7.992558</td>\n",
       "      <td>1514.68</td>\n",
       "    </tr>\n",
       "    <tr>\n",
       "      <th>2013-03-31</th>\n",
       "      <td>232.433931</td>\n",
       "      <td>194.203276</td>\n",
       "      <td>8.150035</td>\n",
       "      <td>1569.19</td>\n",
       "    </tr>\n",
       "    <tr>\n",
       "      <th>2013-04-30</th>\n",
       "      <td>233.259038</td>\n",
       "      <td>195.229345</td>\n",
       "      <td>8.217967</td>\n",
       "      <td>1597.57</td>\n",
       "    </tr>\n",
       "    <tr>\n",
       "      <th>2013-05-31</th>\n",
       "      <td>233.603771</td>\n",
       "      <td>195.429515</td>\n",
       "      <td>8.228568</td>\n",
       "      <td>1630.74</td>\n",
       "    </tr>\n",
       "    <tr>\n",
       "      <th>2013-06-30</th>\n",
       "      <td>233.347153</td>\n",
       "      <td>193.934663</td>\n",
       "      <td>8.331739</td>\n",
       "      <td>1606.28</td>\n",
       "    </tr>\n",
       "    <tr>\n",
       "      <th>...</th>\n",
       "      <td>...</td>\n",
       "      <td>...</td>\n",
       "      <td>...</td>\n",
       "      <td>...</td>\n",
       "    </tr>\n",
       "    <tr>\n",
       "      <th>2022-03-31</th>\n",
       "      <td>274.194779</td>\n",
       "      <td>241.349515</td>\n",
       "      <td>41.568515</td>\n",
       "      <td>4530.41</td>\n",
       "    </tr>\n",
       "    <tr>\n",
       "      <th>2022-04-30</th>\n",
       "      <td>275.094852</td>\n",
       "      <td>242.597083</td>\n",
       "      <td>42.215511</td>\n",
       "      <td>4131.93</td>\n",
       "    </tr>\n",
       "    <tr>\n",
       "      <th>2022-05-31</th>\n",
       "      <td>275.372716</td>\n",
       "      <td>242.735183</td>\n",
       "      <td>42.788152</td>\n",
       "      <td>4132.15</td>\n",
       "    </tr>\n",
       "    <tr>\n",
       "      <th>2022-06-30</th>\n",
       "      <td>275.092101</td>\n",
       "      <td>241.274482</td>\n",
       "      <td>43.451643</td>\n",
       "      <td>3785.38</td>\n",
       "    </tr>\n",
       "    <tr>\n",
       "      <th>2022-07-31</th>\n",
       "      <td>274.997752</td>\n",
       "      <td>241.188952</td>\n",
       "      <td>44.055194</td>\n",
       "      <td>4130.29</td>\n",
       "    </tr>\n",
       "  </tbody>\n",
       "</table>\n",
       "<p>114 rows × 4 columns</p>\n",
       "</div>"
      ],
      "text/plain": [
       "                   cpi         ppi  unemployment_ratio    Price\n",
       "date                                                           \n",
       "2013-02-28  230.884331  192.346502            7.992558  1514.68\n",
       "2013-03-31  232.433931  194.203276            8.150035  1569.19\n",
       "2013-04-30  233.259038  195.229345            8.217967  1597.57\n",
       "2013-05-31  233.603771  195.429515            8.228568  1630.74\n",
       "2013-06-30  233.347153  193.934663            8.331739  1606.28\n",
       "...                ...         ...                 ...      ...\n",
       "2022-03-31  274.194779  241.349515           41.568515  4530.41\n",
       "2022-04-30  275.094852  242.597083           42.215511  4131.93\n",
       "2022-05-31  275.372716  242.735183           42.788152  4132.15\n",
       "2022-06-30  275.092101  241.274482           43.451643  3785.38\n",
       "2022-07-31  274.997752  241.188952           44.055194  4130.29\n",
       "\n",
       "[114 rows x 4 columns]"
      ]
     },
     "execution_count": 23,
     "metadata": {},
     "output_type": "execute_result"
    }
   ],
   "source": [
    "test"
   ]
  },
  {
   "cell_type": "code",
   "execution_count": 47,
   "metadata": {},
   "outputs": [
    {
     "data": {
      "text/plain": [
       "0.22458025816227217"
      ]
     },
     "execution_count": 47,
     "metadata": {},
     "output_type": "execute_result"
    },
    {
     "data": {
      "image/png": "[encoded data removed]",
      "text/plain": [
       "<Figure size 432x288 with 1 Axes>"
      ]
     },
     "metadata": {
      "needs_background": "light"
     },
     "output_type": "display_data"
    }
   ],
   "source": [
    "forecast=model_sp500_2.predict(n_periods=len(test), exogenous = test[['cpi', 'ppi']], return_conf_int=True)\n",
    "arima_df_3 = pd.DataFrame(forecast[0], index = test.index, columns=['Prediction'])\n",
    "pd.concat([find_sp500_case['Price'],arima_df_3],axis=1).plot()\n",
    "mean_absolute_percentage_error(test.Price, arima_df_3['Prediction'])"
   ]
  },
  {
   "cell_type": "code",
   "execution_count": 48,
   "metadata": {},
   "outputs": [
    {
     "name": "stdout",
     "output_type": "stream",
     "text": [
      "Stored 'data_arima_variable' (DataFrame)\n"
     ]
    }
   ],
   "source": [
    "data_arima_variable = arima_df_3.reset_index()\n",
    "%store data_arima_variable"
   ]
  }
 ],
 "metadata": {
  "kernelspec": {
   "display_name": "Python 3",
   "language": "python",
   "name": "python3"
  },
  "language_info": {
   "codemirror_mode": {
    "name": "ipython",
    "version": 3
   },
   "file_extension": ".py",
   "mimetype": "text/x-python",
   "name": "python",
   "nbconvert_exporter": "python",
   "pygments_lexer": "ipython3",
   "version": "3.6.8"
  },
  "orig_nbformat": 4,
  "vscode": {
   "interpreter": {
    "hash": "aee8b7b246df8f9039afb4144a1f6fd8d2ca17a180786b69acc140d282b71a49"
   }
  }
 },
 "nbformat": 4,
 "nbformat_minor": 2
}
